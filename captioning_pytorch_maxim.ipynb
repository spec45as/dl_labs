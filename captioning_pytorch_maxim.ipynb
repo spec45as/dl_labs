{
 "cells": [
  {
   "cell_type": "markdown",
   "metadata": {},
   "source": [
    "<h1 align=\"center\"> Image Captioning </h1>\n",
    "\n",
    "In this notebook you will teach a network to do image captioning\n",
    "\n",
    "\n",
    "\n",
    "#### Alright, here's our plan:\n",
    "1. Take a pre-trained inception v3 to vectorize images\n",
    "2. Stack an LSTM on top of it\n",
    "3. Train the thing on [MSCOCO](http://cocodataset.org/#download)"
   ]
  },
  {
   "cell_type": "code",
   "execution_count": 1,
   "metadata": {},
   "outputs": [],
   "source": [
    "# Please eithrer download data from https://yadi.sk/d/b4nAwIE73TVcp5 or generate it manually."
   ]
  },
  {
   "cell_type": "markdown",
   "metadata": {},
   "source": [
    "### Data preprocessing"
   ]
  },
  {
   "cell_type": "code",
   "execution_count": 2,
   "metadata": {},
   "outputs": [
    {
     "name": "stdout",
     "output_type": "stream",
     "text": [
      "CPU times: user 561 ms, sys: 1.61 s, total: 2.17 s\n",
      "Wall time: 2.3 s\n"
     ]
    }
   ],
   "source": [
    "%%time\n",
    "# Read Dataset\n",
    "import numpy as np\n",
    "import json\n",
    "\n",
    "img_codes = np.load(\"data/image_codes.npy\")\n",
    "captions = json.load(open('data/captions_tokenized.json'))"
   ]
  },
  {
   "cell_type": "markdown",
   "metadata": {},
   "source": [
    "### Data structure\n",
    "\n",
    "To save your time, we've already vectorized all MSCOCO17 images with a pre-trained inception_v3 network from [torchvision](https://github.com/pytorch/vision/blob/master/torchvision/models/inception.py).\n",
    "\n",
    "The whole process takes anywhere between a day on CPU and 10min on 3x tesla m40. If you want to play with that yourself, [you're welcome](https://gist.github.com/justheuristic/11fd01f9c12c0bf960499580d104130b)."
   ]
  },
  {
   "cell_type": "code",
   "execution_count": 3,
   "metadata": {},
   "outputs": [
    {
     "name": "stdout",
     "output_type": "stream",
     "text": [
      "Each image code is a 2048-unit vector [ shape: (118287, 2048) ]\n",
      "[0.3659946  0.2016555  0.9245725  0.57063824 0.547268   0.8275868\n",
      " 0.3687277  0.12085301 0.0561931  0.49758485]\n",
      "\n",
      "For each image there are 5 reference captions, e.g.:\n",
      "\n",
      "people shopping in an open market for vegetables .\n",
      "an open market full of people and piles of vegetables .\n",
      "people are shopping at an open air produce market .\n",
      "large piles of carrots and potatoes at a crowded outdoor market .\n",
      "people shop for vegetables like carrots and potatoes at an open air market .\n"
     ]
    }
   ],
   "source": [
    "print(\"Each image code is a 2048-unit vector [ shape: %s ]\" % str(img_codes.shape))\n",
    "print(img_codes[0,:10], end='\\n\\n')\n",
    "print(\"For each image there are 5 reference captions, e.g.:\\n\")\n",
    "print('\\n'.join(captions[0]))"
   ]
  },
  {
   "cell_type": "markdown",
   "metadata": {},
   "source": [
    "As you can see, all captions are already tokenized and lowercased. We now want to split them and add some special tokens for start/end of caption."
   ]
  },
  {
   "cell_type": "code",
   "execution_count": 4,
   "metadata": {},
   "outputs": [],
   "source": [
    "#split descriptions into tokens\n",
    "for img_i in range(len(captions)):\n",
    "    for caption_i in range(len(captions[img_i])):\n",
    "        sentence = captions[img_i][caption_i] \n",
    "        captions[img_i][caption_i] = [\"#START#\"]+sentence.split(' ')+[\"#END#\"]\n"
   ]
  },
  {
   "cell_type": "markdown",
   "metadata": {},
   "source": [
    "You don't want your network to predict a million-size vector of probabilities at each step, so we're gotta make some cuts. \n",
    "\n",
    "We want you to __count the occurences of each word__ so that we can decide which words to keep in our vocabulary."
   ]
  },
  {
   "cell_type": "code",
   "execution_count": 5,
   "metadata": {},
   "outputs": [],
   "source": [
    "# Build a Vocabulary\n",
    "from collections import Counter\n",
    "word_counts = Counter()\n",
    "\n",
    "#Compute word frequencies for each word in captions. See code above for data structure\n",
    "for image_ix in range(len(captions)):\n",
    "    image_descriptions = captions[image_ix]\n",
    "    for image_description in image_descriptions:\n",
    "        for word in image_description:\n",
    "            word_counts[word] += 1"
   ]
  },
  {
   "cell_type": "code",
   "execution_count": 6,
   "metadata": {},
   "outputs": [],
   "source": [
    "vocab  = ['#UNK#', '#START#', '#END#', '#PAD#']\n",
    "vocab += [k for k, v in word_counts.items() if v >= 5 if k not in vocab]\n",
    "n_tokens = len(vocab)\n",
    "\n",
    "assert 10000 <= n_tokens <= 10500\n",
    "\n",
    "word_to_index = {w: i for i, w in enumerate(vocab)}"
   ]
  },
  {
   "cell_type": "code",
   "execution_count": 7,
   "metadata": {},
   "outputs": [],
   "source": [
    "eos_ix = word_to_index['#END#']\n",
    "unk_ix = word_to_index['#UNK#']\n",
    "pad_ix = word_to_index['#PAD#']\n",
    "\n",
    "def as_matrix(sequences, max_len=None):\n",
    "    \"\"\" Convert a list of tokens into a matrix with padding \"\"\"\n",
    "    max_len = max_len or max(map(len,sequences))\n",
    "    \n",
    "    matrix = np.zeros((len(sequences), max_len), dtype='int32') + pad_ix\n",
    "    for i,seq in enumerate(sequences):\n",
    "        row_ix = [word_to_index.get(word, unk_ix) for word in seq[:max_len]]\n",
    "        matrix[i, :len(row_ix)] = row_ix\n",
    "    \n",
    "    return matrix"
   ]
  },
  {
   "cell_type": "code",
   "execution_count": 8,
   "metadata": {},
   "outputs": [
    {
     "data": {
      "text/plain": [
       "array([[   1,   24,  262,  140,    6,  159,   14,   24,  858,  155,   12,\n",
       "           2,    3,    3,    3,    3,    3,    3,    3],\n",
       "       [   1,   24,  262,   53,   18,   24,  858,  155,    2,    3,    3,\n",
       "           3,    3,    3,    3,    3,    3,    3,    3],\n",
       "       [   1,   24,  262,   41,   18,  903,   35,  620,  155,    2,    3,\n",
       "           3,    3,    3,    3,    3,    3,    3,    3],\n",
       "       [   1,   45,  115,  262,   41,   53,   18,  620, 1525,   77,   12,\n",
       "           2,    3,    3,    3,    3,    3,    3,    3],\n",
       "       [   1,   24,  262,   53,   18,   24,  858,  123,   58,   45,  276,\n",
       "        3641,   24, 3642,   35,   45, 1128,   12,    2]], dtype=int32)"
      ]
     },
     "execution_count": 8,
     "metadata": {},
     "output_type": "execute_result"
    }
   ],
   "source": [
    "#try it out on several descriptions of a random image\n",
    "as_matrix(captions[1337])"
   ]
  },
  {
   "cell_type": "markdown",
   "metadata": {},
   "source": [
    "### Building our neural network\n",
    "\n",
    "As we mentioned earlier, we shall build an rnn \"language-model\" conditioned on vectors from the convolutional part. \n",
    "\n",
    "![img](https://raw.githubusercontent.com/yunjey/pytorch-tutorial/master/tutorials/03-advanced/image_captioning/png/model.png)\n",
    "_image: http://bit.ly/2FKnqHm_\n",
    "\n",
    "\n",
    "We'll unbox the inception net later to save memory, for now just pretend that it's available.\n"
   ]
  },
  {
   "cell_type": "code",
   "execution_count": 9,
   "metadata": {},
   "outputs": [],
   "source": [
    "import torch, torch.nn as nn\n",
    "import torch.nn.functional as F"
   ]
  },
  {
   "cell_type": "code",
   "execution_count": 10,
   "metadata": {},
   "outputs": [],
   "source": [
    "class CaptionNet(nn.Module):\n",
    "    def __init__(self, n_tokens=n_tokens, emb_size=128, lstm_units=256, cnn_feature_size=2048):\n",
    "        \"\"\" A recurrent 'head' network for image captioning. See scheme above. \"\"\"\n",
    "        super(self.__class__, self).__init__()\n",
    "        \n",
    "        # a layer that converts conv features to \n",
    "        self.cnn_to_h0 = nn.Linear(cnn_feature_size, lstm_units)\n",
    "        self.cnn_to_c0 = nn.Linear(cnn_feature_size, lstm_units)\n",
    "        \n",
    "        # recurrent part, please create the layers as per scheme above.\n",
    "\n",
    "        # create embedding for input words. Use the parameters (e.g. emb_size).\n",
    "        self.embedding = nn.Embedding(n_tokens, emb_size) \n",
    "            \n",
    "        # lstm: create a recurrent core of your network. Use either LSTMCell or just LSTM. \n",
    "        # In the latter case (nn.LSTM), make sure batch_first=True\n",
    "        self.lstm = nn.LSTM(input_size=emb_size, hidden_size=lstm_units, batch_first=True)\n",
    "            \n",
    "        # create logits: linear layer that takes lstm hidden state as input and computes one number per token\n",
    "        self.logits = nn.Linear(lstm_units, n_tokens)\n",
    "        \n",
    "    def forward(self, image_vectors, captions_ix):\n",
    "        \"\"\" \n",
    "        Apply the network in training mode. \n",
    "        :param image_vectors: a Variable containing inception vectors. shape: [batch, cnn_feature_size]\n",
    "        :param captions_ix: a Variable containing captions as matrix. shape: [batch, word_i]. \n",
    "            padded with pad_ix\n",
    "        :returns: logits for next token at each tick, shape: [batch, word_i, n_tokens]\n",
    "        \"\"\"\n",
    "        initial_cell = self.cnn_to_c0(image_vectors)\n",
    "        initial_hid = self.cnn_to_h0(image_vectors)\n",
    "        \n",
    "        # compute embeddings for captions_ix\n",
    "        captions_emb = self.embedding(captions_ix)\n",
    "        \n",
    "        # apply recurrent layer to captions_emb. \n",
    "        # 1. initialize lstm state with initial_* from above\n",
    "        # 2. feed it with captions. Mind the dimension order in docstring\n",
    "        # 3. compute logits for next token probabilities\n",
    "        # Note: if you used nn.LSTM, you can just give it (initial_cell[None], initial_hid[None]) as second arg\n",
    "\n",
    "        # lstm_out should be lstm hidden state sequence of shape [batch, caption_length, lstm_units]\n",
    "        lstm_out = self.lstm.forward(captions_emb, (initial_cell[None], initial_hid[None]))[0]\n",
    "        \n",
    "        # compute logits from lstm_out\n",
    "        logits = torch.nn.functional.log_softmax(self.logits(lstm_out), dim=2)\n",
    "        return logits        "
   ]
  },
  {
   "cell_type": "code",
   "execution_count": 11,
   "metadata": {},
   "outputs": [],
   "source": [
    "network = CaptionNet(n_tokens)"
   ]
  },
  {
   "cell_type": "code",
   "execution_count": 12,
   "metadata": {},
   "outputs": [
    {
     "name": "stdout",
     "output_type": "stream",
     "text": [
      "shape: torch.Size([5, 16, 10403])\n"
     ]
    }
   ],
   "source": [
    "dummy_img_vec = torch.randn(len(captions[0]), 2048)\n",
    "dummy_capt_ix = torch.LongTensor(as_matrix(captions[0]))\n",
    "\n",
    "dummy_logits = network.forward(dummy_img_vec, dummy_capt_ix)\n",
    "\n",
    "print('shape:', dummy_logits.shape)\n",
    "assert dummy_logits.shape == (dummy_capt_ix.shape[0], dummy_capt_ix.shape[1], n_tokens)"
   ]
  },
  {
   "cell_type": "code",
   "execution_count": 13,
   "metadata": {},
   "outputs": [],
   "source": [
    "def compute_loss(network, image_vectors, captions_ix):\n",
    "    \"\"\"\n",
    "    :param image_vectors: a Variable containing inception vectors. shape: [batch, cnn_feature_size]\n",
    "    :param captions_ix: a Variable containing captions as matrix. shape: [batch, word_i]. \n",
    "        padded with pad_ix\n",
    "    :returns: crossentropy (neg llh) loss for next captions_ix given previous ones. Scalar float Variable\n",
    "    \"\"\"\n",
    "    \n",
    "    # captions for input - all except last cuz we don't know next token for last one.\n",
    "    captions_ix_inp = captions_ix[:, :-1].contiguous()\n",
    "    captions_ix_next = captions_ix[:, 1:].contiguous()\n",
    "    \n",
    "    # apply the network, get predictions for captions_ix_next\n",
    "    logits_for_next = network.forward(image_vectors, captions_ix_inp)\n",
    "    \n",
    "    \n",
    "    # compute the loss function between logits_for_next and captions_ix_next\n",
    "    # Use the mask, Luke: make sure that predicting next tokens after EOS do not contribute to loss\n",
    "    # you can do that either by multiplying elementwise loss by (captions_ix_next == pad_ix)\n",
    "    # or by using ignore_index in some losses.\n",
    "    \n",
    "    prediction = logits_for_next.view(-1, logits_for_next.shape[-1])\n",
    "    target = captions_ix_next.view(-1)\n",
    "    loss = torch.nn.functional.cross_entropy(prediction, target, reduce=False)\n",
    "    loss = loss * (captions_ix_next != pad_ix).view(-1).float()\n",
    "    loss = torch.mean(loss)\n",
    "    return loss"
   ]
  },
  {
   "cell_type": "code",
   "execution_count": 14,
   "metadata": {},
   "outputs": [],
   "source": [
    "dummy_loss = compute_loss(network, dummy_img_vec, dummy_capt_ix)\n",
    "\n",
    "assert dummy_loss.data.numpy() > 0, \"did you forget the 'negative' part of negative log-likelihood\"\n",
    "\n",
    "dummy_loss.backward()\n",
    "\n",
    "assert all(param.grad is not None for param in network.parameters()), \\\n",
    "        'loss should depend differentiably on all neural network weights'"
   ]
  },
  {
   "cell_type": "markdown",
   "metadata": {},
   "source": [
    "Create ~~adam~~ your favorite optimizer for the network."
   ]
  },
  {
   "cell_type": "code",
   "execution_count": 15,
   "metadata": {},
   "outputs": [],
   "source": [
    "optimizer = torch.optim.Adam(network.parameters(), lr=0.001)"
   ]
  },
  {
   "cell_type": "markdown",
   "metadata": {},
   "source": [
    "# Training\n",
    "\n",
    "* First implement the batch generator\n",
    "* Than train the network as usual"
   ]
  },
  {
   "cell_type": "code",
   "execution_count": 16,
   "metadata": {},
   "outputs": [],
   "source": [
    "from sklearn.model_selection import train_test_split\n",
    "captions = np.array(captions)\n",
    "train_img_codes, val_img_codes, train_captions, val_captions = train_test_split(img_codes, captions,\n",
    "                                                                                test_size=0.1,\n",
    "                                                                                random_state=42)"
   ]
  },
  {
   "cell_type": "code",
   "execution_count": 17,
   "metadata": {},
   "outputs": [],
   "source": [
    "from random import choice\n",
    "\n",
    "def generate_batch(img_codes, captions, batch_size, max_caption_len=None):\n",
    "    \n",
    "    #sample random numbers for image/caption indicies\n",
    "    random_image_ix = np.random.randint(0, len(img_codes), size=batch_size)\n",
    "    \n",
    "    #get images\n",
    "    batch_images = img_codes[random_image_ix]\n",
    "    \n",
    "    #5-7 captions for each image\n",
    "    captions_for_batch_images = captions[random_image_ix]\n",
    "    \n",
    "    #pick one from a set of captions for each image\n",
    "    batch_captions = list(map(choice,captions_for_batch_images))\n",
    "    \n",
    "    #convert to matrix\n",
    "    batch_captions_ix = as_matrix(batch_captions,max_len=max_caption_len)\n",
    "    \n",
    "    return torch.FloatTensor(batch_images).cuda(), torch.LongTensor(batch_captions_ix).cuda()\n",
    "    "
   ]
  },
  {
   "cell_type": "code",
   "execution_count": 18,
   "metadata": {},
   "outputs": [
    {
     "data": {
      "text/plain": [
       "(tensor([[ 0.1160,  0.1894,  0.4387,  ...,  0.5412,  0.2478,  0.1081],\n",
       "         [ 0.0900,  0.8585,  0.3378,  ...,  0.0905,  0.4032,  0.1600],\n",
       "         [ 0.1212,  0.2289,  0.0498,  ...,  0.1142,  0.2128,  0.9314]], device='cuda:0'),\n",
       " tensor([[    1,    24,  2321,    15,    24,   155,   324,    35,    77,\n",
       "             14,    24,   288,   154,    12,     2],\n",
       "         [    1,    88,   462,   140,    35,    45,   382,    14,    24,\n",
       "            338,   705,     2,     3,     3,     3],\n",
       "         [    1,     7,   404,  8053,   447,    99,     6,    24,   326,\n",
       "             14,    24,   184,   793,    12,     2]], device='cuda:0'))"
      ]
     },
     "execution_count": 18,
     "metadata": {},
     "output_type": "execute_result"
    }
   ],
   "source": [
    "generate_batch(img_codes,captions, 3)"
   ]
  },
  {
   "cell_type": "markdown",
   "metadata": {},
   "source": [
    "### Main loop\n",
    "\n",
    "Train on minibatches just as usual. Evaluate on val from time to time.\n",
    "\n",
    "##### TIps\n",
    "* If training loss has become close to 0 or model produces garbage,\n",
    "    double-check that you're predicting __next__ words, not current or t+2'th words.\n",
    "* If the model generates fluent captions that have nothing to do with the images\n",
    " * this may be due to recurrent net not receiving image vectors.\n",
    " * alternatively it may be caused by gradient explosion, try clipping 'em or just restarting the training\n",
    " * finally, you may just need to train the model a bit more\n",
    "\n",
    "\n",
    "* Crossentropy is a poor measure of overfitting\n",
    " * Model can overfit validation crossentropy but keep improving validation quality.\n",
    " * Use human _(manual)_ evaluation or try automated metrics: [cider](https://github.com/vrama91/cider) or [bleu](https://www.nltk.org/_modules/nltk/translate/bleu_score.html)\n",
    " \n",
    "\n",
    "* We recommend you to periodically evaluate the network using the next \"apply trained model\" block\n",
    " *  its safe to interrupt training, run a few examples and start training again\n",
    " \n",
    "* The typical loss values should be around 3~5 if you average over time, scale by length if you sum over time. The reasonable captions began appearing at loss=2.8 ~ 3.0\n",
    " "
   ]
  },
  {
   "cell_type": "code",
   "execution_count": 19,
   "metadata": {},
   "outputs": [],
   "source": [
    "batch_size = 50  # adjust me\n",
    "n_epochs = 100  # adjust me\n",
    "n_batches_per_epoch = 50  # adjust me\n",
    "n_validation_batches = 5  # how many batches are used for validation after each epoch"
   ]
  },
  {
   "cell_type": "code",
   "execution_count": 61,
   "metadata": {},
   "outputs": [
    {
     "name": "stdout",
     "output_type": "stream",
     "text": [
      "cp36-cp36m ['cu75', '\\tlibcudart.so (libc6,x86-64) => /usr/lib/x86_64-linux-gnu/libcudart.so'] cu75\n",
      "\u001b[31mdistributed 1.21.8 requires msgpack, which is not installed.\u001b[0m\n",
      "\u001b[33mYou are using pip version 10.0.1, however version 18.1 is available.\n",
      "You should consider upgrading via the 'pip install --upgrade pip' command.\u001b[0m\n"
     ]
    }
   ],
   "source": [
    "# http://pytorch.org/\n",
    "from os.path import exists\n",
    "from wheel.pep425tags import get_abbr_impl, get_impl_ver, get_abi_tag\n",
    "platform = '{}{}-{}'.format(get_abbr_impl(), get_impl_ver(), get_abi_tag())\n",
    "cuda_output = !ldconfig -p|grep cudart.so|sed -e 's/.*\\.\\([0-9]*\\)\\.\\([0-9]*\\)$/cu\\1\\2/'\n",
    "accelerator = cuda_output[0] if cuda_output and exists('/dev/nvidia0') else 'cpu'\n",
    "print(platform, cuda_output, accelerator)\n",
    "!pip install -q http://download.pytorch.org/whl/{accelerator}/torch-0.4.1-{platform}-linux_x86_64.whl torchvision\n",
    "import torch"
   ]
  },
  {
   "cell_type": "code",
   "execution_count": 20,
   "metadata": {},
   "outputs": [],
   "source": [
    "network = network.cuda()"
   ]
  },
  {
   "cell_type": "code",
   "execution_count": 23,
   "metadata": {
    "scrolled": true
   },
   "outputs": [
    {
     "name": "stderr",
     "output_type": "stream",
     "text": [
      "100%|██████████| 50/50 [00:02<00:00, 17.08it/s]\n",
      "  4%|▍         | 2/50 [00:00<00:02, 17.76it/s]"
     ]
    },
    {
     "name": "stdout",
     "output_type": "stream",
     "text": [
      "\n",
      "Epoch: 0, train loss: 2.795079855918884, val loss: 2.671266508102417\n"
     ]
    },
    {
     "name": "stderr",
     "output_type": "stream",
     "text": [
      "100%|██████████| 50/50 [00:03<00:00, 14.84it/s]\n",
      "  4%|▍         | 2/50 [00:00<00:02, 17.74it/s]"
     ]
    },
    {
     "name": "stdout",
     "output_type": "stream",
     "text": [
      "\n",
      "Epoch: 1, train loss: 2.6200284218788146, val loss: 2.4439766883850096\n"
     ]
    },
    {
     "name": "stderr",
     "output_type": "stream",
     "text": [
      "100%|██████████| 50/50 [00:03<00:00, 16.50it/s]\n",
      "  4%|▍         | 2/50 [00:00<00:02, 19.72it/s]"
     ]
    },
    {
     "name": "stdout",
     "output_type": "stream",
     "text": [
      "\n",
      "Epoch: 2, train loss: 2.53181006193161, val loss: 2.6554283142089843\n"
     ]
    },
    {
     "name": "stderr",
     "output_type": "stream",
     "text": [
      "100%|██████████| 50/50 [00:03<00:00, 16.45it/s]\n",
      "  4%|▍         | 2/50 [00:00<00:03, 15.99it/s]"
     ]
    },
    {
     "name": "stdout",
     "output_type": "stream",
     "text": [
      "\n",
      "Epoch: 3, train loss: 2.5443812370300294, val loss: 2.4712807655334474\n"
     ]
    },
    {
     "name": "stderr",
     "output_type": "stream",
     "text": [
      "100%|██████████| 50/50 [00:02<00:00, 17.76it/s]\n",
      "  4%|▍         | 2/50 [00:00<00:02, 18.38it/s]"
     ]
    },
    {
     "name": "stdout",
     "output_type": "stream",
     "text": [
      "\n",
      "Epoch: 4, train loss: 2.367523534297943, val loss: 2.5316617012023928\n"
     ]
    },
    {
     "name": "stderr",
     "output_type": "stream",
     "text": [
      "100%|██████████| 50/50 [00:02<00:00, 16.31it/s]\n",
      "  4%|▍         | 2/50 [00:00<00:02, 16.91it/s]"
     ]
    },
    {
     "name": "stdout",
     "output_type": "stream",
     "text": [
      "\n",
      "Epoch: 5, train loss: 2.2201942086219786, val loss: 2.185466003417969\n"
     ]
    },
    {
     "name": "stderr",
     "output_type": "stream",
     "text": [
      "100%|██████████| 50/50 [00:02<00:00, 17.05it/s]\n",
      "  4%|▍         | 2/50 [00:00<00:02, 18.11it/s]"
     ]
    },
    {
     "name": "stdout",
     "output_type": "stream",
     "text": [
      "\n",
      "Epoch: 6, train loss: 2.3168236589431763, val loss: 1.8379425048828124\n"
     ]
    },
    {
     "name": "stderr",
     "output_type": "stream",
     "text": [
      "100%|██████████| 50/50 [00:02<00:00, 17.42it/s]\n",
      "  4%|▍         | 2/50 [00:00<00:02, 17.09it/s]"
     ]
    },
    {
     "name": "stdout",
     "output_type": "stream",
     "text": [
      "\n",
      "Epoch: 7, train loss: 2.2350122284889222, val loss: 2.4080477714538575\n"
     ]
    },
    {
     "name": "stderr",
     "output_type": "stream",
     "text": [
      "100%|██████████| 50/50 [00:03<00:00, 14.99it/s]\n",
      "  4%|▍         | 2/50 [00:00<00:02, 19.76it/s]"
     ]
    },
    {
     "name": "stdout",
     "output_type": "stream",
     "text": [
      "\n",
      "Epoch: 8, train loss: 2.1791857266426087, val loss: 1.9819403886795044\n"
     ]
    },
    {
     "name": "stderr",
     "output_type": "stream",
     "text": [
      "100%|██████████| 50/50 [00:03<00:00, 16.09it/s]\n",
      "  4%|▍         | 2/50 [00:00<00:02, 17.90it/s]"
     ]
    },
    {
     "name": "stdout",
     "output_type": "stream",
     "text": [
      "\n",
      "Epoch: 9, train loss: 2.1896444606781005, val loss: 2.045033884048462\n"
     ]
    },
    {
     "name": "stderr",
     "output_type": "stream",
     "text": [
      "100%|██████████| 50/50 [00:03<00:00, 15.88it/s]\n",
      "  4%|▍         | 2/50 [00:00<00:03, 13.18it/s]"
     ]
    },
    {
     "name": "stdout",
     "output_type": "stream",
     "text": [
      "\n",
      "Epoch: 10, train loss: 2.1181242799758913, val loss: 2.1501219272613525\n"
     ]
    },
    {
     "name": "stderr",
     "output_type": "stream",
     "text": [
      "100%|██████████| 50/50 [00:03<00:00, 15.66it/s]\n",
      "  4%|▍         | 2/50 [00:00<00:03, 15.16it/s]"
     ]
    },
    {
     "name": "stdout",
     "output_type": "stream",
     "text": [
      "\n",
      "Epoch: 11, train loss: 2.0624466347694397, val loss: 2.1921385526657104\n"
     ]
    },
    {
     "name": "stderr",
     "output_type": "stream",
     "text": [
      "100%|██████████| 50/50 [00:03<00:00, 15.21it/s]\n",
      "  4%|▍         | 2/50 [00:00<00:03, 12.17it/s]"
     ]
    },
    {
     "name": "stdout",
     "output_type": "stream",
     "text": [
      "\n",
      "Epoch: 12, train loss: 2.040541961193085, val loss: 1.9183235168457031\n"
     ]
    },
    {
     "name": "stderr",
     "output_type": "stream",
     "text": [
      "100%|██████████| 50/50 [00:03<00:00, 13.48it/s]\n",
      "  4%|▍         | 2/50 [00:00<00:02, 17.99it/s]"
     ]
    },
    {
     "name": "stdout",
     "output_type": "stream",
     "text": [
      "\n",
      "Epoch: 13, train loss: 2.0766955614089966, val loss: 1.9385342836380004\n"
     ]
    },
    {
     "name": "stderr",
     "output_type": "stream",
     "text": [
      "100%|██████████| 50/50 [00:03<00:00, 16.47it/s]\n",
      "  4%|▍         | 2/50 [00:00<00:02, 17.96it/s]"
     ]
    },
    {
     "name": "stdout",
     "output_type": "stream",
     "text": [
      "\n",
      "Epoch: 14, train loss: 1.9064971172809602, val loss: 1.6988713502883912\n"
     ]
    },
    {
     "name": "stderr",
     "output_type": "stream",
     "text": [
      "100%|██████████| 50/50 [00:03<00:00, 15.24it/s]\n",
      "  4%|▍         | 2/50 [00:00<00:02, 19.60it/s]"
     ]
    },
    {
     "name": "stdout",
     "output_type": "stream",
     "text": [
      "\n",
      "Epoch: 15, train loss: 1.9698498439788819, val loss: 2.0365232944488527\n"
     ]
    },
    {
     "name": "stderr",
     "output_type": "stream",
     "text": [
      "100%|██████████| 50/50 [00:03<00:00, 15.03it/s]\n",
      "  4%|▍         | 2/50 [00:00<00:02, 16.93it/s]"
     ]
    },
    {
     "name": "stdout",
     "output_type": "stream",
     "text": [
      "\n",
      "Epoch: 16, train loss: 1.955950481891632, val loss: 1.934528684616089\n"
     ]
    },
    {
     "name": "stderr",
     "output_type": "stream",
     "text": [
      "100%|██████████| 50/50 [00:03<00:00, 16.07it/s]\n",
      "  4%|▍         | 2/50 [00:00<00:03, 15.34it/s]"
     ]
    },
    {
     "name": "stdout",
     "output_type": "stream",
     "text": [
      "\n",
      "Epoch: 17, train loss: 1.9424001002311706, val loss: 1.7880076885223388\n"
     ]
    },
    {
     "name": "stderr",
     "output_type": "stream",
     "text": [
      "100%|██████████| 50/50 [00:03<00:00, 14.99it/s]\n",
      "  4%|▍         | 2/50 [00:00<00:02, 17.04it/s]"
     ]
    },
    {
     "name": "stdout",
     "output_type": "stream",
     "text": [
      "\n",
      "Epoch: 18, train loss: 1.8992189526557923, val loss: 2.2646114110946653\n"
     ]
    },
    {
     "name": "stderr",
     "output_type": "stream",
     "text": [
      "100%|██████████| 50/50 [00:03<00:00, 16.98it/s]\n",
      "  4%|▍         | 2/50 [00:00<00:03, 14.69it/s]"
     ]
    },
    {
     "name": "stdout",
     "output_type": "stream",
     "text": [
      "\n",
      "Epoch: 19, train loss: 1.9031288743019104, val loss: 2.0381608247756957\n"
     ]
    },
    {
     "name": "stderr",
     "output_type": "stream",
     "text": [
      "100%|██████████| 50/50 [00:03<00:00, 15.99it/s]\n",
      "  4%|▍         | 2/50 [00:00<00:02, 18.91it/s]"
     ]
    },
    {
     "name": "stdout",
     "output_type": "stream",
     "text": [
      "\n",
      "Epoch: 20, train loss: 1.8118693876266478, val loss: 2.119368004798889\n"
     ]
    },
    {
     "name": "stderr",
     "output_type": "stream",
     "text": [
      "100%|██████████| 50/50 [00:03<00:00, 15.28it/s]\n",
      "  4%|▍         | 2/50 [00:00<00:02, 17.68it/s]"
     ]
    },
    {
     "name": "stdout",
     "output_type": "stream",
     "text": [
      "\n",
      "Epoch: 21, train loss: 1.7888198542594909, val loss: 1.6769733905792237\n"
     ]
    },
    {
     "name": "stderr",
     "output_type": "stream",
     "text": [
      "100%|██████████| 50/50 [00:03<00:00, 15.48it/s]\n",
      "  4%|▍         | 2/50 [00:00<00:02, 17.41it/s]"
     ]
    },
    {
     "name": "stdout",
     "output_type": "stream",
     "text": [
      "\n",
      "Epoch: 22, train loss: 1.8868037819862367, val loss: 1.8640151739120483\n"
     ]
    },
    {
     "name": "stderr",
     "output_type": "stream",
     "text": [
      "100%|██████████| 50/50 [00:03<00:00, 17.43it/s]\n",
      "  4%|▍         | 2/50 [00:00<00:03, 14.48it/s]"
     ]
    },
    {
     "name": "stdout",
     "output_type": "stream",
     "text": [
      "\n",
      "Epoch: 23, train loss: 1.8621589815616608, val loss: 1.812109375\n"
     ]
    },
    {
     "name": "stderr",
     "output_type": "stream",
     "text": [
      "100%|██████████| 50/50 [00:03<00:00, 15.15it/s]\n",
      "  4%|▍         | 2/50 [00:00<00:02, 16.88it/s]"
     ]
    },
    {
     "name": "stdout",
     "output_type": "stream",
     "text": [
      "\n",
      "Epoch: 24, train loss: 1.7916703021526337, val loss: 2.0979769945144655\n"
     ]
    },
    {
     "name": "stderr",
     "output_type": "stream",
     "text": [
      "100%|██████████| 50/50 [00:03<00:00, 16.71it/s]\n",
      "  4%|▍         | 2/50 [00:00<00:03, 15.41it/s]"
     ]
    },
    {
     "name": "stdout",
     "output_type": "stream",
     "text": [
      "\n",
      "Epoch: 25, train loss: 1.8434026801586152, val loss: 1.8958788633346557\n"
     ]
    },
    {
     "name": "stderr",
     "output_type": "stream",
     "text": [
      "100%|██████████| 50/50 [00:03<00:00, 16.49it/s]\n",
      "  4%|▍         | 2/50 [00:00<00:02, 17.56it/s]"
     ]
    },
    {
     "name": "stdout",
     "output_type": "stream",
     "text": [
      "\n",
      "Epoch: 26, train loss: 1.8821813988685607, val loss: 1.8909271001815795\n"
     ]
    },
    {
     "name": "stderr",
     "output_type": "stream",
     "text": [
      "100%|██████████| 50/50 [00:03<00:00, 17.06it/s]\n",
      "  4%|▍         | 2/50 [00:00<00:02, 18.10it/s]"
     ]
    },
    {
     "name": "stdout",
     "output_type": "stream",
     "text": [
      "\n",
      "Epoch: 27, train loss: 1.8425595355033875, val loss: 1.757430362701416\n"
     ]
    },
    {
     "name": "stderr",
     "output_type": "stream",
     "text": [
      "100%|██████████| 50/50 [00:02<00:00, 16.95it/s]\n",
      "  4%|▍         | 2/50 [00:00<00:03, 15.36it/s]"
     ]
    },
    {
     "name": "stdout",
     "output_type": "stream",
     "text": [
      "\n",
      "Epoch: 28, train loss: 1.8578449273109436, val loss: 1.9888002157211304\n"
     ]
    },
    {
     "name": "stderr",
     "output_type": "stream",
     "text": [
      "100%|██████████| 50/50 [00:03<00:00, 15.14it/s]\n",
      "  4%|▍         | 2/50 [00:00<00:03, 15.07it/s]"
     ]
    },
    {
     "name": "stdout",
     "output_type": "stream",
     "text": [
      "\n",
      "Epoch: 29, train loss: 1.7199795043468475, val loss: 1.7828648090362549\n"
     ]
    },
    {
     "name": "stderr",
     "output_type": "stream",
     "text": [
      "100%|██████████| 50/50 [00:03<00:00, 15.55it/s]\n",
      "  4%|▍         | 2/50 [00:00<00:02, 17.12it/s]"
     ]
    },
    {
     "name": "stdout",
     "output_type": "stream",
     "text": [
      "\n",
      "Epoch: 30, train loss: 1.8019510340690612, val loss: 2.1227582693099976\n"
     ]
    },
    {
     "name": "stderr",
     "output_type": "stream",
     "text": [
      "100%|██████████| 50/50 [00:03<00:00, 15.70it/s]\n",
      "  4%|▍         | 2/50 [00:00<00:02, 17.98it/s]"
     ]
    },
    {
     "name": "stdout",
     "output_type": "stream",
     "text": [
      "\n",
      "Epoch: 31, train loss: 1.818300108909607, val loss: 1.6831875324249268\n"
     ]
    },
    {
     "name": "stderr",
     "output_type": "stream",
     "text": [
      "100%|██████████| 50/50 [00:03<00:00, 14.57it/s]\n",
      "  4%|▍         | 2/50 [00:00<00:03, 14.73it/s]"
     ]
    },
    {
     "name": "stdout",
     "output_type": "stream",
     "text": [
      "\n",
      "Epoch: 32, train loss: 1.8290883803367615, val loss: 1.7442115068435669\n"
     ]
    },
    {
     "name": "stderr",
     "output_type": "stream",
     "text": [
      "100%|██████████| 50/50 [00:03<00:00, 15.83it/s]\n",
      "  4%|▍         | 2/50 [00:00<00:02, 18.36it/s]"
     ]
    },
    {
     "name": "stdout",
     "output_type": "stream",
     "text": [
      "\n",
      "Epoch: 33, train loss: 1.8053464925289153, val loss: 1.5948672771453858\n"
     ]
    },
    {
     "name": "stderr",
     "output_type": "stream",
     "text": [
      "100%|██████████| 50/50 [00:03<00:00, 17.89it/s]\n",
      "  4%|▍         | 2/50 [00:00<00:02, 19.42it/s]"
     ]
    },
    {
     "name": "stdout",
     "output_type": "stream",
     "text": [
      "\n",
      "Epoch: 34, train loss: 1.7188833141326905, val loss: 1.7231589794158935\n"
     ]
    },
    {
     "name": "stderr",
     "output_type": "stream",
     "text": [
      "100%|██████████| 50/50 [00:02<00:00, 17.14it/s]\n",
      "  4%|▍         | 2/50 [00:00<00:02, 18.57it/s]"
     ]
    },
    {
     "name": "stdout",
     "output_type": "stream",
     "text": [
      "\n",
      "Epoch: 35, train loss: 1.6921130740642547, val loss: 1.6993431210517884\n"
     ]
    },
    {
     "name": "stderr",
     "output_type": "stream",
     "text": [
      "100%|██████████| 50/50 [00:02<00:00, 18.45it/s]\n",
      "  6%|▌         | 3/50 [00:00<00:02, 20.29it/s]"
     ]
    },
    {
     "name": "stdout",
     "output_type": "stream",
     "text": [
      "\n",
      "Epoch: 36, train loss: 1.7789539980888367, val loss: 1.8920263290405273\n"
     ]
    },
    {
     "name": "stderr",
     "output_type": "stream",
     "text": [
      "100%|██████████| 50/50 [00:02<00:00, 17.28it/s]\n",
      "  4%|▍         | 2/50 [00:00<00:02, 18.32it/s]"
     ]
    },
    {
     "name": "stdout",
     "output_type": "stream",
     "text": [
      "\n",
      "Epoch: 37, train loss: 1.6558710932731628, val loss: 1.7948383569717408\n"
     ]
    },
    {
     "name": "stderr",
     "output_type": "stream",
     "text": [
      "100%|██████████| 50/50 [00:02<00:00, 16.94it/s]\n",
      "  4%|▍         | 2/50 [00:00<00:02, 19.39it/s]"
     ]
    },
    {
     "name": "stdout",
     "output_type": "stream",
     "text": [
      "\n",
      "Epoch: 38, train loss: 1.7007661700248717, val loss: 2.0031523942947387\n"
     ]
    },
    {
     "name": "stderr",
     "output_type": "stream",
     "text": [
      "100%|██████████| 50/50 [00:02<00:00, 18.12it/s]\n",
      "  2%|▏         | 1/50 [00:00<00:05,  9.74it/s]"
     ]
    },
    {
     "name": "stdout",
     "output_type": "stream",
     "text": [
      "\n",
      "Epoch: 39, train loss: 1.731086356639862, val loss: 1.7334499120712281\n"
     ]
    },
    {
     "name": "stderr",
     "output_type": "stream",
     "text": [
      "100%|██████████| 50/50 [00:02<00:00, 16.99it/s]\n",
      "  6%|▌         | 3/50 [00:00<00:02, 19.34it/s]"
     ]
    },
    {
     "name": "stdout",
     "output_type": "stream",
     "text": [
      "\n",
      "Epoch: 40, train loss: 1.6464081799983978, val loss: 1.6934853315353393\n"
     ]
    },
    {
     "name": "stderr",
     "output_type": "stream",
     "text": [
      "100%|██████████| 50/50 [00:02<00:00, 15.43it/s]\n",
      "  4%|▍         | 2/50 [00:00<00:02, 19.17it/s]"
     ]
    },
    {
     "name": "stdout",
     "output_type": "stream",
     "text": [
      "\n",
      "Epoch: 41, train loss: 1.7998658967018129, val loss: 1.7273611307144165\n"
     ]
    },
    {
     "name": "stderr",
     "output_type": "stream",
     "text": [
      "100%|██████████| 50/50 [00:02<00:00, 16.34it/s]\n",
      "  4%|▍         | 2/50 [00:00<00:03, 13.47it/s]"
     ]
    },
    {
     "name": "stdout",
     "output_type": "stream",
     "text": [
      "\n",
      "Epoch: 42, train loss: 1.7167114877700806, val loss: 1.8314358472824097\n"
     ]
    },
    {
     "name": "stderr",
     "output_type": "stream",
     "text": [
      "100%|██████████| 50/50 [00:03<00:00, 14.04it/s]\n",
      "  4%|▍         | 2/50 [00:00<00:02, 18.42it/s]"
     ]
    },
    {
     "name": "stdout",
     "output_type": "stream",
     "text": [
      "\n",
      "Epoch: 43, train loss: 1.6607367372512818, val loss: 1.6798111200332642\n"
     ]
    },
    {
     "name": "stderr",
     "output_type": "stream",
     "text": [
      "100%|██████████| 50/50 [00:02<00:00, 16.06it/s]\n",
      "  4%|▍         | 2/50 [00:00<00:02, 18.86it/s]"
     ]
    },
    {
     "name": "stdout",
     "output_type": "stream",
     "text": [
      "\n",
      "Epoch: 44, train loss: 1.8058555507659912, val loss: 1.7567481517791748\n"
     ]
    },
    {
     "name": "stderr",
     "output_type": "stream",
     "text": [
      "100%|██████████| 50/50 [00:03<00:00, 14.10it/s]\n",
      "  4%|▍         | 2/50 [00:00<00:02, 17.93it/s]"
     ]
    },
    {
     "name": "stdout",
     "output_type": "stream",
     "text": [
      "\n",
      "Epoch: 45, train loss: 1.7356130278110504, val loss: 1.6605721712112427\n"
     ]
    },
    {
     "name": "stderr",
     "output_type": "stream",
     "text": [
      "100%|██████████| 50/50 [00:03<00:00, 15.15it/s]\n",
      "  4%|▍         | 2/50 [00:00<00:02, 18.96it/s]"
     ]
    },
    {
     "name": "stdout",
     "output_type": "stream",
     "text": [
      "\n",
      "Epoch: 46, train loss: 1.7119266486167908, val loss: 1.769880747795105\n"
     ]
    },
    {
     "name": "stderr",
     "output_type": "stream",
     "text": [
      "100%|██████████| 50/50 [00:03<00:00, 15.32it/s]\n",
      "  4%|▍         | 2/50 [00:00<00:03, 15.12it/s]"
     ]
    },
    {
     "name": "stdout",
     "output_type": "stream",
     "text": [
      "\n",
      "Epoch: 47, train loss: 1.6347792875766753, val loss: 1.6018237590789794\n"
     ]
    },
    {
     "name": "stderr",
     "output_type": "stream",
     "text": [
      "100%|██████████| 50/50 [00:03<00:00, 14.28it/s]\n",
      "  4%|▍         | 2/50 [00:00<00:02, 16.80it/s]"
     ]
    },
    {
     "name": "stdout",
     "output_type": "stream",
     "text": [
      "\n",
      "Epoch: 48, train loss: 1.6027916288375854, val loss: 1.8066110372543336\n"
     ]
    },
    {
     "name": "stderr",
     "output_type": "stream",
     "text": [
      "100%|██████████| 50/50 [00:03<00:00, 16.25it/s]\n",
      "  4%|▍         | 2/50 [00:00<00:03, 14.22it/s]"
     ]
    },
    {
     "name": "stdout",
     "output_type": "stream",
     "text": [
      "\n",
      "Epoch: 49, train loss: 1.7127464962005616, val loss: 1.7302666664123536\n"
     ]
    },
    {
     "name": "stderr",
     "output_type": "stream",
     "text": [
      "100%|██████████| 50/50 [00:03<00:00, 15.29it/s]\n",
      "  4%|▍         | 2/50 [00:00<00:03, 15.62it/s]"
     ]
    },
    {
     "name": "stdout",
     "output_type": "stream",
     "text": [
      "\n",
      "Epoch: 50, train loss: 1.7032703423500062, val loss: 1.815648889541626\n"
     ]
    },
    {
     "name": "stderr",
     "output_type": "stream",
     "text": [
      "100%|██████████| 50/50 [00:03<00:00, 15.57it/s]\n",
      "  4%|▍         | 2/50 [00:00<00:02, 18.65it/s]"
     ]
    },
    {
     "name": "stdout",
     "output_type": "stream",
     "text": [
      "\n",
      "Epoch: 51, train loss: 1.634977501630783, val loss: 1.7096826791763307\n"
     ]
    },
    {
     "name": "stderr",
     "output_type": "stream",
     "text": [
      "100%|██████████| 50/50 [00:02<00:00, 17.41it/s]\n",
      "  4%|▍         | 2/50 [00:00<00:02, 16.42it/s]"
     ]
    },
    {
     "name": "stdout",
     "output_type": "stream",
     "text": [
      "\n",
      "Epoch: 52, train loss: 1.7340639066696166, val loss: 1.6791993618011474\n"
     ]
    },
    {
     "name": "stderr",
     "output_type": "stream",
     "text": [
      "100%|██████████| 50/50 [00:03<00:00, 15.09it/s]\n",
      "  4%|▍         | 2/50 [00:00<00:02, 16.87it/s]"
     ]
    },
    {
     "name": "stdout",
     "output_type": "stream",
     "text": [
      "\n",
      "Epoch: 53, train loss: 1.64936372756958, val loss: 1.6855006217956543\n"
     ]
    },
    {
     "name": "stderr",
     "output_type": "stream",
     "text": [
      "100%|██████████| 50/50 [00:03<00:00, 14.00it/s]\n",
      "  4%|▍         | 2/50 [00:00<00:02, 19.24it/s]"
     ]
    },
    {
     "name": "stdout",
     "output_type": "stream",
     "text": [
      "\n",
      "Epoch: 54, train loss: 1.605635129213333, val loss: 1.5745253086090087\n"
     ]
    },
    {
     "name": "stderr",
     "output_type": "stream",
     "text": [
      "100%|██████████| 50/50 [00:03<00:00, 13.31it/s]\n",
      "  4%|▍         | 2/50 [00:00<00:02, 17.28it/s]"
     ]
    },
    {
     "name": "stdout",
     "output_type": "stream",
     "text": [
      "\n",
      "Epoch: 55, train loss: 1.5990834379196166, val loss: 1.6161093235015869\n"
     ]
    },
    {
     "name": "stderr",
     "output_type": "stream",
     "text": [
      "100%|██████████| 50/50 [00:03<00:00, 16.03it/s]\n",
      "  4%|▍         | 2/50 [00:00<00:03, 14.50it/s]"
     ]
    },
    {
     "name": "stdout",
     "output_type": "stream",
     "text": [
      "\n",
      "Epoch: 56, train loss: 1.6789229393005372, val loss: 1.8217586994171142\n"
     ]
    },
    {
     "name": "stderr",
     "output_type": "stream",
     "text": [
      "100%|██████████| 50/50 [00:03<00:00, 15.77it/s]\n",
      "  4%|▍         | 2/50 [00:00<00:02, 17.06it/s]"
     ]
    },
    {
     "name": "stdout",
     "output_type": "stream",
     "text": [
      "\n",
      "Epoch: 57, train loss: 1.6059987890720366, val loss: 1.697558856010437\n"
     ]
    },
    {
     "name": "stderr",
     "output_type": "stream",
     "text": [
      "100%|██████████| 50/50 [00:03<00:00, 15.20it/s]\n",
      "  4%|▍         | 2/50 [00:00<00:03, 14.40it/s]"
     ]
    },
    {
     "name": "stdout",
     "output_type": "stream",
     "text": [
      "\n",
      "Epoch: 58, train loss: 1.6037134802341462, val loss: 1.6262966394424438\n"
     ]
    },
    {
     "name": "stderr",
     "output_type": "stream",
     "text": [
      "100%|██████████| 50/50 [00:03<00:00, 14.90it/s]\n",
      "  4%|▍         | 2/50 [00:00<00:03, 15.01it/s]"
     ]
    },
    {
     "name": "stdout",
     "output_type": "stream",
     "text": [
      "\n",
      "Epoch: 59, train loss: 1.64809818983078, val loss: 1.4816412925720215\n"
     ]
    },
    {
     "name": "stderr",
     "output_type": "stream",
     "text": [
      "100%|██████████| 50/50 [00:03<00:00, 14.90it/s]\n",
      "  4%|▍         | 2/50 [00:00<00:03, 14.85it/s]"
     ]
    },
    {
     "name": "stdout",
     "output_type": "stream",
     "text": [
      "\n",
      "Epoch: 60, train loss: 1.6268069314956666, val loss: 1.5118993997573853\n"
     ]
    },
    {
     "name": "stderr",
     "output_type": "stream",
     "text": [
      "100%|██████████| 50/50 [00:03<00:00, 13.09it/s]\n",
      "  4%|▍         | 2/50 [00:00<00:03, 14.67it/s]"
     ]
    },
    {
     "name": "stdout",
     "output_type": "stream",
     "text": [
      "\n",
      "Epoch: 61, train loss: 1.6336040592193604, val loss: 1.6101670265197754\n"
     ]
    },
    {
     "name": "stderr",
     "output_type": "stream",
     "text": [
      "100%|██████████| 50/50 [00:03<00:00, 14.94it/s]\n",
      "  4%|▍         | 2/50 [00:00<00:03, 13.96it/s]"
     ]
    },
    {
     "name": "stdout",
     "output_type": "stream",
     "text": [
      "\n",
      "Epoch: 62, train loss: 1.5833467268943786, val loss: 1.590892457962036\n"
     ]
    },
    {
     "name": "stderr",
     "output_type": "stream",
     "text": [
      "100%|██████████| 50/50 [00:03<00:00, 15.50it/s]\n",
      "  4%|▍         | 2/50 [00:00<00:03, 13.09it/s]"
     ]
    },
    {
     "name": "stdout",
     "output_type": "stream",
     "text": [
      "\n",
      "Epoch: 63, train loss: 1.638963314294815, val loss: 1.6886800527572632\n"
     ]
    },
    {
     "name": "stderr",
     "output_type": "stream",
     "text": [
      "100%|██████████| 50/50 [00:03<00:00, 15.95it/s]\n",
      "  4%|▍         | 2/50 [00:00<00:03, 12.83it/s]"
     ]
    },
    {
     "name": "stdout",
     "output_type": "stream",
     "text": [
      "\n",
      "Epoch: 64, train loss: 1.5920417547225951, val loss: 1.6387226581573486\n"
     ]
    },
    {
     "name": "stderr",
     "output_type": "stream",
     "text": [
      "100%|██████████| 50/50 [00:03<00:00, 16.60it/s]\n",
      "  4%|▍         | 2/50 [00:00<00:04, 11.38it/s]"
     ]
    },
    {
     "name": "stdout",
     "output_type": "stream",
     "text": [
      "\n",
      "Epoch: 65, train loss: 1.595500774383545, val loss: 1.7016411542892456\n"
     ]
    },
    {
     "name": "stderr",
     "output_type": "stream",
     "text": [
      "100%|██████████| 50/50 [00:03<00:00, 16.51it/s]\n",
      "  4%|▍         | 2/50 [00:00<00:02, 17.13it/s]"
     ]
    },
    {
     "name": "stdout",
     "output_type": "stream",
     "text": [
      "\n",
      "Epoch: 66, train loss: 1.6686000800132752, val loss: 1.594619131088257\n"
     ]
    },
    {
     "name": "stderr",
     "output_type": "stream",
     "text": [
      "100%|██████████| 50/50 [00:03<00:00, 15.99it/s]\n",
      "  4%|▍         | 2/50 [00:00<00:02, 16.20it/s]"
     ]
    },
    {
     "name": "stdout",
     "output_type": "stream",
     "text": [
      "\n",
      "Epoch: 67, train loss: 1.63068630695343, val loss: 1.6893879413604735\n"
     ]
    },
    {
     "name": "stderr",
     "output_type": "stream",
     "text": [
      "100%|██████████| 50/50 [00:03<00:00, 14.66it/s]\n",
      "  4%|▍         | 2/50 [00:00<00:03, 14.58it/s]"
     ]
    },
    {
     "name": "stdout",
     "output_type": "stream",
     "text": [
      "\n",
      "Epoch: 68, train loss: 1.6416280448436738, val loss: 1.528371775150299\n"
     ]
    },
    {
     "name": "stderr",
     "output_type": "stream",
     "text": [
      "100%|██████████| 50/50 [00:03<00:00, 15.27it/s]\n",
      "  4%|▍         | 2/50 [00:00<00:02, 17.85it/s]"
     ]
    },
    {
     "name": "stdout",
     "output_type": "stream",
     "text": [
      "\n",
      "Epoch: 69, train loss: 1.624242627620697, val loss: 1.6934364318847657\n"
     ]
    },
    {
     "name": "stderr",
     "output_type": "stream",
     "text": [
      "100%|██████████| 50/50 [00:02<00:00, 17.15it/s]\n",
      "  4%|▍         | 2/50 [00:00<00:02, 19.07it/s]"
     ]
    },
    {
     "name": "stdout",
     "output_type": "stream",
     "text": [
      "\n",
      "Epoch: 70, train loss: 1.60182293176651, val loss: 1.6971524238586426\n"
     ]
    },
    {
     "name": "stderr",
     "output_type": "stream",
     "text": [
      "100%|██████████| 50/50 [00:02<00:00, 17.06it/s]\n",
      "  4%|▍         | 2/50 [00:00<00:02, 18.87it/s]"
     ]
    },
    {
     "name": "stdout",
     "output_type": "stream",
     "text": [
      "\n",
      "Epoch: 71, train loss: 1.5985679519176483, val loss: 1.6995379209518433\n"
     ]
    },
    {
     "name": "stderr",
     "output_type": "stream",
     "text": [
      "100%|██████████| 50/50 [00:02<00:00, 16.54it/s]\n",
      "  4%|▍         | 2/50 [00:00<00:03, 15.82it/s]"
     ]
    },
    {
     "name": "stdout",
     "output_type": "stream",
     "text": [
      "\n",
      "Epoch: 72, train loss: 1.6060030448436737, val loss: 1.6346013069152832\n"
     ]
    },
    {
     "name": "stderr",
     "output_type": "stream",
     "text": [
      "100%|██████████| 50/50 [00:03<00:00, 14.19it/s]\n",
      "  4%|▍         | 2/50 [00:00<00:03, 13.96it/s]"
     ]
    },
    {
     "name": "stdout",
     "output_type": "stream",
     "text": [
      "\n",
      "Epoch: 73, train loss: 1.6116222310066224, val loss: 1.5547701835632324\n"
     ]
    },
    {
     "name": "stderr",
     "output_type": "stream",
     "text": [
      "100%|██████████| 50/50 [00:03<00:00, 15.74it/s]\n",
      "  4%|▍         | 2/50 [00:00<00:02, 17.90it/s]"
     ]
    },
    {
     "name": "stdout",
     "output_type": "stream",
     "text": [
      "\n",
      "Epoch: 74, train loss: 1.594626921415329, val loss: 1.6715949535369874\n"
     ]
    },
    {
     "name": "stderr",
     "output_type": "stream",
     "text": [
      "100%|██████████| 50/50 [00:03<00:00, 15.94it/s]\n",
      "  4%|▍         | 2/50 [00:00<00:02, 19.06it/s]"
     ]
    },
    {
     "name": "stdout",
     "output_type": "stream",
     "text": [
      "\n",
      "Epoch: 75, train loss: 1.575451946258545, val loss: 1.6127058506011962\n"
     ]
    },
    {
     "name": "stderr",
     "output_type": "stream",
     "text": [
      "100%|██████████| 50/50 [00:02<00:00, 18.06it/s]\n",
      "  6%|▌         | 3/50 [00:00<00:02, 20.11it/s]"
     ]
    },
    {
     "name": "stdout",
     "output_type": "stream",
     "text": [
      "\n",
      "Epoch: 76, train loss: 1.6405851101875306, val loss: 1.6688841342926026\n"
     ]
    },
    {
     "name": "stderr",
     "output_type": "stream",
     "text": [
      "100%|██████████| 50/50 [00:02<00:00, 16.07it/s]\n",
      "  4%|▍         | 2/50 [00:00<00:03, 15.64it/s]"
     ]
    },
    {
     "name": "stdout",
     "output_type": "stream",
     "text": [
      "\n",
      "Epoch: 77, train loss: 1.6143190670013428, val loss: 1.7986114263534545\n"
     ]
    },
    {
     "name": "stderr",
     "output_type": "stream",
     "text": [
      "100%|██████████| 50/50 [00:03<00:00, 15.89it/s]\n",
      "  4%|▍         | 2/50 [00:00<00:03, 14.27it/s]"
     ]
    },
    {
     "name": "stdout",
     "output_type": "stream",
     "text": [
      "\n",
      "Epoch: 78, train loss: 1.54517946600914, val loss: 1.6737853050231934\n"
     ]
    },
    {
     "name": "stderr",
     "output_type": "stream",
     "text": [
      "100%|██████████| 50/50 [00:03<00:00, 16.35it/s]\n",
      "  4%|▍         | 2/50 [00:00<00:02, 17.82it/s]"
     ]
    },
    {
     "name": "stdout",
     "output_type": "stream",
     "text": [
      "\n",
      "Epoch: 79, train loss: 1.4871781969070434, val loss: 1.7310866355895995\n"
     ]
    },
    {
     "name": "stderr",
     "output_type": "stream",
     "text": [
      "100%|██████████| 50/50 [00:02<00:00, 17.41it/s]\n",
      "  4%|▍         | 2/50 [00:00<00:02, 17.37it/s]"
     ]
    },
    {
     "name": "stdout",
     "output_type": "stream",
     "text": [
      "\n",
      "Epoch: 80, train loss: 1.5687072348594666, val loss: 1.8825161933898926\n"
     ]
    },
    {
     "name": "stderr",
     "output_type": "stream",
     "text": [
      "100%|██████████| 50/50 [00:03<00:00, 16.59it/s]\n",
      "  4%|▍         | 2/50 [00:00<00:02, 18.88it/s]"
     ]
    },
    {
     "name": "stdout",
     "output_type": "stream",
     "text": [
      "\n",
      "Epoch: 81, train loss: 1.5937051916122436, val loss: 1.5740246295928955\n"
     ]
    },
    {
     "name": "stderr",
     "output_type": "stream",
     "text": [
      "100%|██████████| 50/50 [00:02<00:00, 17.33it/s]\n",
      "  4%|▍         | 2/50 [00:00<00:02, 19.63it/s]"
     ]
    },
    {
     "name": "stdout",
     "output_type": "stream",
     "text": [
      "\n",
      "Epoch: 82, train loss: 1.5273832738399507, val loss: 1.7420506715774535\n"
     ]
    },
    {
     "name": "stderr",
     "output_type": "stream",
     "text": [
      "100%|██████████| 50/50 [00:02<00:00, 16.94it/s]\n",
      "  4%|▍         | 2/50 [00:00<00:02, 18.86it/s]"
     ]
    },
    {
     "name": "stdout",
     "output_type": "stream",
     "text": [
      "\n",
      "Epoch: 83, train loss: 1.620082130432129, val loss: 1.6651480674743653\n"
     ]
    },
    {
     "name": "stderr",
     "output_type": "stream",
     "text": [
      "100%|██████████| 50/50 [00:02<00:00, 18.50it/s]\n",
      "  4%|▍         | 2/50 [00:00<00:02, 17.86it/s]"
     ]
    },
    {
     "name": "stdout",
     "output_type": "stream",
     "text": [
      "\n",
      "Epoch: 84, train loss: 1.6231138157844542, val loss: 1.60798122882843\n"
     ]
    },
    {
     "name": "stderr",
     "output_type": "stream",
     "text": [
      "100%|██████████| 50/50 [00:02<00:00, 16.86it/s]\n",
      "  4%|▍         | 2/50 [00:00<00:02, 18.04it/s]"
     ]
    },
    {
     "name": "stdout",
     "output_type": "stream",
     "text": [
      "\n",
      "Epoch: 85, train loss: 1.5711439919471741, val loss: 1.8539241790771483\n"
     ]
    },
    {
     "name": "stderr",
     "output_type": "stream",
     "text": [
      "100%|██████████| 50/50 [00:03<00:00, 16.16it/s]\n",
      "  4%|▍         | 2/50 [00:00<00:03, 14.62it/s]"
     ]
    },
    {
     "name": "stdout",
     "output_type": "stream",
     "text": [
      "\n",
      "Epoch: 86, train loss: 1.5206924891471862, val loss: 1.5685487985610962\n"
     ]
    },
    {
     "name": "stderr",
     "output_type": "stream",
     "text": [
      "100%|██████████| 50/50 [00:03<00:00, 16.15it/s]\n",
      "  4%|▍         | 2/50 [00:00<00:03, 14.29it/s]"
     ]
    },
    {
     "name": "stdout",
     "output_type": "stream",
     "text": [
      "\n",
      "Epoch: 87, train loss: 1.5490049409866333, val loss: 1.4509309649467468\n"
     ]
    },
    {
     "name": "stderr",
     "output_type": "stream",
     "text": [
      "100%|██████████| 50/50 [00:02<00:00, 15.38it/s]\n",
      "  4%|▍         | 2/50 [00:00<00:03, 13.12it/s]"
     ]
    },
    {
     "name": "stdout",
     "output_type": "stream",
     "text": [
      "\n",
      "Epoch: 88, train loss: 1.6454305028915406, val loss: 1.7461967468261719\n"
     ]
    },
    {
     "name": "stderr",
     "output_type": "stream",
     "text": [
      "100%|██████████| 50/50 [00:02<00:00, 17.53it/s]\n",
      "  6%|▌         | 3/50 [00:00<00:02, 20.08it/s]"
     ]
    },
    {
     "name": "stdout",
     "output_type": "stream",
     "text": [
      "\n",
      "Epoch: 89, train loss: 1.5605629658699036, val loss: 1.6604300260543823\n"
     ]
    },
    {
     "name": "stderr",
     "output_type": "stream",
     "text": [
      "100%|██████████| 50/50 [00:02<00:00, 18.69it/s]\n",
      "  4%|▍         | 2/50 [00:00<00:03, 15.97it/s]"
     ]
    },
    {
     "name": "stdout",
     "output_type": "stream",
     "text": [
      "\n",
      "Epoch: 90, train loss: 1.6195390343666076, val loss: 1.5554839611053466\n"
     ]
    },
    {
     "name": "stderr",
     "output_type": "stream",
     "text": [
      "100%|██████████| 50/50 [00:02<00:00, 17.69it/s]\n",
      "  4%|▍         | 2/50 [00:00<00:02, 19.17it/s]"
     ]
    },
    {
     "name": "stdout",
     "output_type": "stream",
     "text": [
      "\n",
      "Epoch: 91, train loss: 1.5470157730579377, val loss: 1.4405304193496704\n"
     ]
    },
    {
     "name": "stderr",
     "output_type": "stream",
     "text": [
      "100%|██████████| 50/50 [00:02<00:00, 19.30it/s]\n",
      "  4%|▍         | 2/50 [00:00<00:02, 17.91it/s]"
     ]
    },
    {
     "name": "stdout",
     "output_type": "stream",
     "text": [
      "\n",
      "Epoch: 92, train loss: 1.6166317534446717, val loss: 1.547400665283203\n"
     ]
    },
    {
     "name": "stderr",
     "output_type": "stream",
     "text": [
      "100%|██████████| 50/50 [00:02<00:00, 19.32it/s]\n",
      "  4%|▍         | 2/50 [00:00<00:02, 19.81it/s]"
     ]
    },
    {
     "name": "stdout",
     "output_type": "stream",
     "text": [
      "\n",
      "Epoch: 93, train loss: 1.5937328338623047, val loss: 1.4053151249885558\n"
     ]
    },
    {
     "name": "stderr",
     "output_type": "stream",
     "text": [
      "100%|██████████| 50/50 [00:03<00:00, 16.65it/s]\n",
      "  4%|▍         | 2/50 [00:00<00:02, 16.29it/s]"
     ]
    },
    {
     "name": "stdout",
     "output_type": "stream",
     "text": [
      "\n",
      "Epoch: 94, train loss: 1.5729574143886567, val loss: 1.5685529232025146\n"
     ]
    },
    {
     "name": "stderr",
     "output_type": "stream",
     "text": [
      "100%|██████████| 50/50 [00:02<00:00, 17.65it/s]\n",
      "  4%|▍         | 2/50 [00:00<00:03, 13.29it/s]"
     ]
    },
    {
     "name": "stdout",
     "output_type": "stream",
     "text": [
      "\n",
      "Epoch: 95, train loss: 1.592102816104889, val loss: 1.4901990652084351\n"
     ]
    },
    {
     "name": "stderr",
     "output_type": "stream",
     "text": [
      "100%|██████████| 50/50 [00:03<00:00, 16.27it/s]\n",
      "  4%|▍         | 2/50 [00:00<00:02, 18.80it/s]"
     ]
    },
    {
     "name": "stdout",
     "output_type": "stream",
     "text": [
      "\n",
      "Epoch: 96, train loss: 1.5730005621910095, val loss: 1.7333732843399048\n"
     ]
    },
    {
     "name": "stderr",
     "output_type": "stream",
     "text": [
      "100%|██████████| 50/50 [00:02<00:00, 17.29it/s]\n",
      "  4%|▍         | 2/50 [00:00<00:03, 12.73it/s]"
     ]
    },
    {
     "name": "stdout",
     "output_type": "stream",
     "text": [
      "\n",
      "Epoch: 97, train loss: 1.5202046597003938, val loss: 1.7246737241744996\n"
     ]
    },
    {
     "name": "stderr",
     "output_type": "stream",
     "text": [
      "100%|██████████| 50/50 [00:02<00:00, 17.89it/s]\n",
      "  4%|▍         | 2/50 [00:00<00:03, 15.99it/s]"
     ]
    },
    {
     "name": "stdout",
     "output_type": "stream",
     "text": [
      "\n",
      "Epoch: 98, train loss: 1.538335896730423, val loss: 1.5482622861862183\n"
     ]
    },
    {
     "name": "stderr",
     "output_type": "stream",
     "text": [
      "100%|██████████| 50/50 [00:02<00:00, 18.29it/s]"
     ]
    },
    {
     "name": "stdout",
     "output_type": "stream",
     "text": [
      "\n",
      "Epoch: 99, train loss: 1.6009659898281097, val loss: 1.4400920391082763\n",
      "Finished!\n"
     ]
    },
    {
     "name": "stderr",
     "output_type": "stream",
     "text": [
      "\n"
     ]
    }
   ],
   "source": [
    "from tqdm import tqdm\n",
    "\n",
    "for epoch in range(n_epochs):\n",
    "    \n",
    "    train_loss=0\n",
    "    network.train(True)\n",
    "    for _ in tqdm(range(n_batches_per_epoch)):\n",
    "        \n",
    "        loss_t = compute_loss(network, *generate_batch(train_img_codes, train_captions, batch_size))\n",
    "        \n",
    "        # clear old gradients; do a backward pass to get new gradients; then train with opt\n",
    "        network.zero_grad()\n",
    "        \n",
    "        loss_t.backward()\n",
    "        \n",
    "        optimizer.step()\n",
    "        train_loss += loss_t.data.cpu().numpy().item()\n",
    "        \n",
    "    train_loss /= n_batches_per_epoch\n",
    "    \n",
    "    val_loss=0\n",
    "    network.train(False)\n",
    "    for _ in range(n_validation_batches):\n",
    "        loss_t = compute_loss(network, *generate_batch(val_img_codes, val_captions, batch_size))\n",
    "        val_loss += loss_t.data.cpu().numpy().item()\n",
    "    val_loss /= n_validation_batches\n",
    "    \n",
    "    print('\\nEpoch: {}, train loss: {}, val loss: {}'.format(epoch, train_loss, val_loss))\n",
    "\n",
    "print(\"Finished!\")"
   ]
  },
  {
   "cell_type": "markdown",
   "metadata": {},
   "source": [
    "### Apply trained model\n",
    "\n",
    "Let's unpack our pre-trained inception network and see what our model is capable of."
   ]
  },
  {
   "cell_type": "code",
   "execution_count": 24,
   "metadata": {},
   "outputs": [],
   "source": [
    "from beheaded_inception3 import beheaded_inception_v3\n",
    "inception = beheaded_inception_v3().train(False)"
   ]
  },
  {
   "cell_type": "markdown",
   "metadata": {},
   "source": [
    "### Generate caption\n",
    "\n",
    "The function below creates captions by sampling from probabilities defined by the net.\n",
    "\n",
    "The implementation used here is simple but inefficient (quadratic in lstm steps). We keep it that way since it isn't a performance bottleneck."
   ]
  },
  {
   "cell_type": "code",
   "execution_count": 25,
   "metadata": {},
   "outputs": [],
   "source": [
    "def generate_caption(image, caption_prefix = (\"START\",), \n",
    "                     t=1, sample=True, max_len=100):\n",
    "    \n",
    "    assert isinstance(image, np.ndarray) and np.max(image) <= 1\\\n",
    "           and np.min(image) >=0 and image.shape[-1] == 3\n",
    "    \n",
    "    image = Variable(torch.FloatTensor(image.transpose([2, 0, 1])), volatile=True)\n",
    "    \n",
    "    vectors_8x8, vectors_neck, logits = inception(image[None])\n",
    "    caption_prefix = list(caption_prefix)\n",
    "    \n",
    "    for _ in range(max_len):\n",
    "        \n",
    "        prefix_ix = as_matrix([caption_prefix])\n",
    "        prefix_ix = Variable(torch.LongTensor(prefix_ix), volatile=True)\n",
    "        next_word_logits = network.forward(vectors_neck.cuda(), prefix_ix.cuda())[0, -1]\n",
    "        next_word_probs = F.softmax(next_word_logits.cpu(), -1).data.numpy()\n",
    "        \n",
    "        \n",
    "        assert len(next_word_probs.shape) ==1, 'probs must be one-dimensional'\n",
    "        next_word_probs = next_word_probs ** t / np.sum(next_word_probs ** t) # apply temperature\n",
    "\n",
    "        if sample:\n",
    "            next_word = np.random.choice(vocab, p=next_word_probs) \n",
    "        else:\n",
    "            next_word = vocab[np.argmax(next_word_probs)]\n",
    "\n",
    "        caption_prefix.append(next_word)\n",
    "\n",
    "        if next_word==\"#END#\":\n",
    "            break\n",
    "            \n",
    "    return caption_prefix"
   ]
  },
  {
   "cell_type": "code",
   "execution_count": 31,
   "metadata": {},
   "outputs": [
    {
     "name": "stdout",
     "output_type": "stream",
     "text": [
      "--2018-11-20 08:59:41--  https://pixel.nymag.com/imgs/daily/selectall/2018/02/12/12-tony-hawk.w710.h473.jpg\n",
      "Resolving pixel.nymag.com (pixel.nymag.com)... 151.101.36.70\n",
      "Connecting to pixel.nymag.com (pixel.nymag.com)|151.101.36.70|:443... connected.\n",
      "HTTP request sent, awaiting response... 200 OK\n",
      "Length: 107928 (105K) [image/jpeg]\n",
      "Saving to: ‘data/img.jpg’\n",
      "\n",
      "data/img.jpg        100%[===================>] 105,40K  --.-KB/s    in 0,1s    \n",
      "\n",
      "2018-11-20 08:59:41 (807 KB/s) - ‘data/img.jpg’ saved [107928/107928]\n",
      "\n"
     ]
    },
    {
     "name": "stderr",
     "output_type": "stream",
     "text": [
      "/home/maxim/anaconda3/lib/python3.6/site-packages/ipykernel_launcher.py:8: DeprecationWarning: `imresize` is deprecated!\n",
      "`imresize` is deprecated in SciPy 1.0.0, and will be removed in 1.2.0.\n",
      "Use ``skimage.transform.resize`` instead.\n",
      "  \n"
     ]
    }
   ],
   "source": [
    "from matplotlib import pyplot as plt\n",
    "from scipy.misc import imresize\n",
    "%matplotlib inline\n",
    "\n",
    "#sample image\n",
    "!wget https://pixel.nymag.com/imgs/daily/selectall/2018/02/12/12-tony-hawk.w710.h473.jpg -O data/img.jpg\n",
    "img = plt.imread('data/img.jpg')\n",
    "img = imresize(img, (299, 299)).astype('float32') / 255."
   ]
  },
  {
   "cell_type": "code",
   "execution_count": 32,
   "metadata": {},
   "outputs": [
    {
     "data": {
      "text/plain": [
       "<matplotlib.image.AxesImage at 0x7f9d0cf81b70>"
      ]
     },
     "execution_count": 32,
     "metadata": {},
     "output_type": "execute_result"
    },
    {
     "data": {
      "image/png": "[encoded data removed]",
      "text/plain": [
       "<Figure size 432x288 with 1 Axes>"
      ]
     },
     "metadata": {},
     "output_type": "display_data"
    }
   ],
   "source": [
    "plt.imshow(img)"
   ]
  },
  {
   "cell_type": "code",
   "execution_count": 33,
   "metadata": {},
   "outputs": [
    {
     "ename": "NameError",
     "evalue": "name 'Variable' is not defined",
     "output_type": "error",
     "traceback": [
      "\u001b[0;31m---------------------------------------------------------------------------\u001b[0m",
      "\u001b[0;31mNameError\u001b[0m                                 Traceback (most recent call last)",
      "\u001b[0;32m<ipython-input-33-6ded64b15be8>\u001b[0m in \u001b[0;36m<module>\u001b[0;34m()\u001b[0m\n\u001b[1;32m      1\u001b[0m \u001b[0;32mfor\u001b[0m \u001b[0mi\u001b[0m \u001b[0;32min\u001b[0m \u001b[0mrange\u001b[0m\u001b[0;34m(\u001b[0m\u001b[0;36m10\u001b[0m\u001b[0;34m)\u001b[0m\u001b[0;34m:\u001b[0m\u001b[0;34m\u001b[0m\u001b[0m\n\u001b[0;32m----> 2\u001b[0;31m     \u001b[0mprint\u001b[0m\u001b[0;34m(\u001b[0m\u001b[0;34m' '\u001b[0m\u001b[0;34m.\u001b[0m\u001b[0mjoin\u001b[0m\u001b[0;34m(\u001b[0m\u001b[0mgenerate_caption\u001b[0m\u001b[0;34m(\u001b[0m\u001b[0mimg\u001b[0m\u001b[0;34m,\u001b[0m \u001b[0mt\u001b[0m\u001b[0;34m=\u001b[0m\u001b[0;36m5.\u001b[0m\u001b[0;34m)\u001b[0m\u001b[0;34m[\u001b[0m\u001b[0;36m1\u001b[0m\u001b[0;34m:\u001b[0m\u001b[0;34m-\u001b[0m\u001b[0;36m1\u001b[0m\u001b[0;34m]\u001b[0m\u001b[0;34m)\u001b[0m\u001b[0;34m)\u001b[0m\u001b[0;34m\u001b[0m\u001b[0m\n\u001b[0m",
      "\u001b[0;32m<ipython-input-25-890afa96f2e7>\u001b[0m in \u001b[0;36mgenerate_caption\u001b[0;34m(image, caption_prefix, t, sample, max_len)\u001b[0m\n\u001b[1;32m      4\u001b[0m     \u001b[0;32massert\u001b[0m \u001b[0misinstance\u001b[0m\u001b[0;34m(\u001b[0m\u001b[0mimage\u001b[0m\u001b[0;34m,\u001b[0m \u001b[0mnp\u001b[0m\u001b[0;34m.\u001b[0m\u001b[0mndarray\u001b[0m\u001b[0;34m)\u001b[0m \u001b[0;32mand\u001b[0m \u001b[0mnp\u001b[0m\u001b[0;34m.\u001b[0m\u001b[0mmax\u001b[0m\u001b[0;34m(\u001b[0m\u001b[0mimage\u001b[0m\u001b[0;34m)\u001b[0m \u001b[0;34m<=\u001b[0m \u001b[0;36m1\u001b[0m           \u001b[0;32mand\u001b[0m \u001b[0mnp\u001b[0m\u001b[0;34m.\u001b[0m\u001b[0mmin\u001b[0m\u001b[0;34m(\u001b[0m\u001b[0mimage\u001b[0m\u001b[0;34m)\u001b[0m \u001b[0;34m>=\u001b[0m\u001b[0;36m0\u001b[0m \u001b[0;32mand\u001b[0m \u001b[0mimage\u001b[0m\u001b[0;34m.\u001b[0m\u001b[0mshape\u001b[0m\u001b[0;34m[\u001b[0m\u001b[0;34m-\u001b[0m\u001b[0;36m1\u001b[0m\u001b[0;34m]\u001b[0m \u001b[0;34m==\u001b[0m \u001b[0;36m3\u001b[0m\u001b[0;34m\u001b[0m\u001b[0m\n\u001b[1;32m      5\u001b[0m \u001b[0;34m\u001b[0m\u001b[0m\n\u001b[0;32m----> 6\u001b[0;31m     \u001b[0mimage\u001b[0m \u001b[0;34m=\u001b[0m \u001b[0mVariable\u001b[0m\u001b[0;34m(\u001b[0m\u001b[0mtorch\u001b[0m\u001b[0;34m.\u001b[0m\u001b[0mFloatTensor\u001b[0m\u001b[0;34m(\u001b[0m\u001b[0mimage\u001b[0m\u001b[0;34m.\u001b[0m\u001b[0mtranspose\u001b[0m\u001b[0;34m(\u001b[0m\u001b[0;34m[\u001b[0m\u001b[0;36m2\u001b[0m\u001b[0;34m,\u001b[0m \u001b[0;36m0\u001b[0m\u001b[0;34m,\u001b[0m \u001b[0;36m1\u001b[0m\u001b[0;34m]\u001b[0m\u001b[0;34m)\u001b[0m\u001b[0;34m)\u001b[0m\u001b[0;34m,\u001b[0m \u001b[0mvolatile\u001b[0m\u001b[0;34m=\u001b[0m\u001b[0;32mTrue\u001b[0m\u001b[0;34m)\u001b[0m\u001b[0;34m\u001b[0m\u001b[0m\n\u001b[0m\u001b[1;32m      7\u001b[0m \u001b[0;34m\u001b[0m\u001b[0m\n\u001b[1;32m      8\u001b[0m     \u001b[0mvectors_8x8\u001b[0m\u001b[0;34m,\u001b[0m \u001b[0mvectors_neck\u001b[0m\u001b[0;34m,\u001b[0m \u001b[0mlogits\u001b[0m \u001b[0;34m=\u001b[0m \u001b[0minception\u001b[0m\u001b[0;34m(\u001b[0m\u001b[0mimage\u001b[0m\u001b[0;34m[\u001b[0m\u001b[0;32mNone\u001b[0m\u001b[0;34m]\u001b[0m\u001b[0;34m)\u001b[0m\u001b[0;34m\u001b[0m\u001b[0m\n",
      "\u001b[0;31mNameError\u001b[0m: name 'Variable' is not defined"
     ]
    }
   ],
   "source": [
    "for i in range(10):\n",
    "    print(' '.join(generate_caption(img, t=5.)[1:-1]))"
   ]
  },
  {
   "cell_type": "markdown",
   "metadata": {},
   "source": [
    "# Demo\n",
    "### Find at least 10 images to test it on.\n",
    "* Seriously, that's part of an assignment. Go get at least 10 pictures to get captioned\n",
    "* Make sure it works okay on __simple__ images before going to something more comples\n",
    "* Photos, not animation/3d/drawings, unless you want to train CNN network on anime\n",
    "* Mind the aspect ratio"
   ]
  },
  {
   "cell_type": "code",
   "execution_count": null,
   "metadata": {
    "scrolled": false
   },
   "outputs": [
    {
     "name": "stderr",
     "output_type": "stream",
     "text": [
      "/home/maxim/anaconda3/lib/python3.6/site-packages/ipykernel_launcher.py:9: DeprecationWarning: `imresize` is deprecated!\n",
      "`imresize` is deprecated in SciPy 1.0.0, and will be removed in 1.2.0.\n",
      "Use ``skimage.transform.resize`` instead.\n",
      "  if __name__ == '__main__':\n"
     ]
    },
    {
     "data": {
      "image/png": "[encoded data removed]",
      "text/plain": [
       "<Figure size 432x288 with 1 Axes>"
      ]
     },
     "metadata": {},
     "output_type": "display_data"
    },
    {
     "name": "stderr",
     "output_type": "stream",
     "text": [
      "/home/maxim/anaconda3/lib/python3.6/site-packages/ipykernel_launcher.py:6: UserWarning: volatile was removed and now has no effect. Use `with torch.no_grad():` instead.\n",
      "  \n",
      "/home/maxim/anaconda3/lib/python3.6/site-packages/ipykernel_launcher.py:14: UserWarning: volatile was removed and now has no effect. Use `with torch.no_grad():` instead.\n",
      "  \n"
     ]
    },
    {
     "name": "stdout",
     "output_type": "stream",
     "text": [
      "a large jetliner flying through a cloudy sky .\n",
      "a large airplane is flying in a cloudy sky .\n",
      "a plane is flying in the sky over a cloudy sky .\n",
      "a plane flying over a body of water .\n",
      "a large airplane is flying in the sky .\n",
      "a group of people standing on a field flying kites .\n",
      "a group of people flying kites in the sky .\n",
      "a plane is flying in the sky next to a body of water .\n",
      "a group of people standing on a field flying kites .\n",
      "a large jetliner flying over a body of water .\n"
     ]
    },
    {
     "data": {
      "image/png": "[encoded data removed]",
      "text/plain": [
       "<Figure size 432x288 with 1 Axes>"
      ]
     },
     "metadata": {},
     "output_type": "display_data"
    },
    {
     "name": "stdout",
     "output_type": "stream",
     "text": [
      "a group of people walking on a street with a umbrella .\n",
      "a group of people walking down a street with a clock .\n",
      "a group of people walking down a street with a clock .\n",
      "a group of people walking down a street with a street sign .\n"
     ]
    }
   ],
   "source": [
    "from torch.autograd import Variable\n",
    "import os\n",
    "folder_path = 'images_lstm/'\n",
    "files = os.listdir(folder_path)\n",
    "selected_files = np.random.choice(files, size = 10, replace=False)\n",
    "\n",
    "for file in selected_files:\n",
    "    img = plt.imread(folder_path + file)\n",
    "    img = imresize(img, (299, 299)).astype('float32') / 255.\n",
    "    plt.imshow(img)\n",
    "    plt.show()\n",
    "\n",
    "    for i in range(10):\n",
    "        print(' '.join(generate_caption(img, t=5.)[1:-1]))"
   ]
  },
  {
   "cell_type": "code",
   "execution_count": null,
   "metadata": {},
   "outputs": [],
   "source": []
  },
  {
   "cell_type": "markdown",
   "metadata": {},
   "source": [
    "### Now what?\n",
    "\n",
    "Your model produces some captions but you still strive to improve it? You're damn right to do so. Here are some ideas that go beyond simply \"stacking more layers\". The options are listed easiest to hardest.\n",
    "\n",
    "##### Subword level captioning\n",
    "In the base version, we replace all rare words with UNKs which throws away a lot of information and reduces quality. A better way to deal with vocabulary size problem would be to use Byte-Pair Encoding\n",
    "\n",
    "* BPE implementation you can use: [github_repo](https://github.com/rsennrich/subword-nmt). \n",
    "* Theory: https://arxiv.org/abs/1508.07909\n",
    "* It was originally built for machine translation, but it should work with captioning just as well.\n",
    "\n",
    "##### Attention\n",
    "You can build better and more interpretable captioning model with attention.\n",
    "* How it works: https://distill.pub/2016/augmented-rnns/\n",
    "* One way of doing this in captioning: https://arxiv.org/abs/1502.03044\n",
    "* You will have to create a dataset for attention with [this notebook](https://gist.github.com/justheuristic/11fd01f9c12c0bf960499580d104130b).\n",
    "\n",
    "#### Reinforcement learning\n",
    "* After your model has been pre-trained in a teacher forced way, you can tune for captioning-speific models like CIDEr.\n",
    "* Tutorial on RL for sequence models: [practical_rl week8](https://github.com/yandexdataschool/Practical_RL/tree/master/week8_scst)\n",
    "* Theory: https://arxiv.org/abs/1612.00563"
   ]
  }
 ],
 "metadata": {
  "kernelspec": {
   "display_name": "Python 3",
   "language": "python",
   "name": "python3"
  },
  "language_info": {
   "codemirror_mode": {
    "name": "ipython",
    "version": 3
   },
   "file_extension": ".py",
   "mimetype": "text/x-python",
   "name": "python",
   "nbconvert_exporter": "python",
   "pygments_lexer": "ipython3",
   "version": "3.6.5"
  }
 },
 "nbformat": 4,
 "nbformat_minor": 1
}
