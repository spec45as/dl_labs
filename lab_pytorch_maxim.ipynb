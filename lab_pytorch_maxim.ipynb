{
 "cells": [
  {
   "cell_type": "markdown",
   "metadata": {},
   "source": [
    "## Пример задачи"
   ]
  },
  {
   "cell_type": "code",
   "execution_count": 12,
   "metadata": {},
   "outputs": [],
   "source": [
    "import torch\n",
    "import numpy as np\n",
    "import matplotlib.pyplot as plt\n",
    "%matplotlib inline"
   ]
  },
  {
   "cell_type": "markdown",
   "metadata": {},
   "source": [
    "Наркоманская функция потерь, вынуждающая линейное преобразование переводить точки из многомерного пространства в двумерное на единичную окружность. Для оптимизации использовать градиентный спуск по параметрам преобразования.\n",
    "\n",
    "Линейное преобразование точки $x$ из десятимерного пространства в точку $y$ двумерного пространства с весами преобразования $W$ и $b$:\n",
    "$$y = Wx + b$$\n",
    "\n",
    "Норма в двумерном пространстве – евклидова:\n",
    "$$||y||_2 = \\sqrt{y_1^2 + y_2^2}$$\n",
    "\n",
    "Функция потерь $f_0$ штрафует расстояние от получившейся точки $y$ до единичной окружности:\n",
    "$$f_0(x, W, b) = 0.5 \\cdot \\big| ||y||_2 - 1 \\big| + \\big( ||y||_2 - 1 \\big)^2$$\n",
    "\n",
    "К сожалению, оптимизация функции $f_0$ по $W$ и $b$ может быть проведена аналитически\n",
    "и приводит к тривиальному решению $W = 0$, $b = (1, 0)$.\n",
    "Чтобы избежать такого решения, вводим штраф на близость получившейся точки к вектору $b$, который обращается в 0, если расстояние до вектора $b$ более 1:\n",
    "$$f_1(x, W, b) = \\max\\big(0, \\frac{1}{||y - b||_2} - 1\\big)$$\n",
    "\n",
    "Итоговая функция потерь:\n",
    "$$f(x, W, b) = f_0(x, W, b) + f_1(x, W, b)$$\n",
    "\n",
    "Нужно решить следующую оптимизационную задачу:\n",
    "$$\\frac{1}{N}\\sum\\limits_{i = 1}^N f(x_i, W, b) \\to \\min\\limits_{W, b}$$"
   ]
  },
  {
   "cell_type": "code",
   "execution_count": 20,
   "metadata": {},
   "outputs": [],
   "source": [
    "def loss_f_0(z):\n",
    "    distance = torch.sqrt(z[:,0] ** 2 + z[:,1] ** 2)\n",
    "    return 0.5 * torch.abs(distance - 1) + (distance - 1) ** 2\n",
    "\n",
    "def loss_f_1(z, b):\n",
    "    distance = torch.sqrt((z-b)[:,0] ** 2 + (z-b)[:,1] ** 2)\n",
    "    return torch.nn.functional.relu(1/distance - 1)\n",
    "\n",
    "def f(X, W, b):\n",
    "    z = torch.matmul(X, W) + b\n",
    "    loss_0, loss_1 = loss_f_0(z), loss_f_1(z, b)\n",
    "    loss = loss_0 + loss_1\n",
    "    return torch.mean(loss_0 + loss_1)"
   ]
  },
  {
   "cell_type": "code",
   "execution_count": 65,
   "metadata": {},
   "outputs": [],
   "source": [
    "X = torch.randn(50, 10)\n",
    "b = torch.randn(2)\n",
    "W = torch.randn(10, 2)"
   ]
  },
  {
   "cell_type": "code",
   "execution_count": 66,
   "metadata": {},
   "outputs": [
    {
     "name": "stdout",
     "output_type": "stream",
     "text": [
      "tensor(12.7380)\n"
     ]
    },
    {
     "data": {
      "text/plain": [
       "<matplotlib.collections.PathCollection at 0x7f4445000898>"
      ]
     },
     "execution_count": 66,
     "metadata": {},
     "output_type": "execute_result"
    },
    {
     "data": {
      "image/png": "[encoded data removed]",
      "text/plain": [
       "<Figure size 360x360 with 1 Axes>"
      ]
     },
     "metadata": {},
     "output_type": "display_data"
    }
   ],
   "source": [
    "# Результат на случайных весах\n",
    "print(f(X, W, b))\n",
    "plt.figure(figsize=(5, 5))\n",
    "Y = X.mm(W).add(b)\n",
    "plt.scatter(Y[:, 0], Y[:, 1])"
   ]
  },
  {
   "cell_type": "code",
   "execution_count": 103,
   "metadata": {},
   "outputs": [
    {
     "name": "stdout",
     "output_type": "stream",
     "text": [
      "0: 12.737998962402344\n",
      "10: 3.4813077449798584\n",
      "20: 36.52226257324219\n",
      "30: 9.999650001525879\n",
      "40: 1.9745256900787354\n",
      "50: 1.1720629930496216\n",
      "60: 0.875336766242981\n",
      "70: 0.9066555500030518\n",
      "80: 0.6306901574134827\n",
      "90: 0.45122891664505005\n",
      "100: 0.3626193106174469\n",
      "110: 0.31948322057724\n",
      "120: 0.2642340660095215\n",
      "130: 0.23902525007724762\n",
      "140: 0.23475965857505798\n",
      "150: 0.23339225351810455\n",
      "160: 0.2321547269821167\n",
      "170: 0.2322722226381302\n",
      "180: 0.2330823838710785\n",
      "190: 0.23159746825695038\n",
      "finished\n"
     ]
    }
   ],
   "source": [
    "x_tensor = torch.tensor(X, requires_grad=True)\n",
    "w_tensor = torch.tensor(W, requires_grad=True)\n",
    "b_tensor = torch.tensor(b, requires_grad=True)\n",
    "optimizer = torch.optim.SGD([w_tensor, b_tensor], lr=0.05, momentum=0.9)\n",
    "for i in range(0,200):\n",
    "    if i % 10 == 0:\n",
    "        print('{}: {}'.format(i, f(x_tensor, w_tensor, b_tensor).data))\n",
    "    optimizer.zero_grad()\n",
    "    loss = f(x_tensor, w_tensor, b_tensor)\n",
    "    loss.backward()\n",
    "    optimizer.step()\n",
    "print(\"finished\")"
   ]
  },
  {
   "cell_type": "code",
   "execution_count": 107,
   "metadata": {},
   "outputs": [
    {
     "data": {
      "text/plain": [
       "<matplotlib.collections.PathCollection at 0x7f4444eb2898>"
      ]
     },
     "execution_count": 107,
     "metadata": {},
     "output_type": "execute_result"
    },
    {
     "data": {
      "image/png": "[encoded data removed]",
      "text/plain": [
       "<Figure size 360x360 with 1 Axes>"
      ]
     },
     "metadata": {},
     "output_type": "display_data"
    }
   ],
   "source": [
    "# Результат после обучения\n",
    "plt.figure(figsize=(5, 5))\n",
    "Y = X.mm(w_tensor.data).add(b_tensor.data)\n",
    "plt.scatter(Y[:, 0], Y[:, 1])"
   ]
  },
  {
   "cell_type": "markdown",
   "metadata": {},
   "source": [
    "# Время писать нейросеть"
   ]
  },
  {
   "cell_type": "markdown",
   "metadata": {},
   "source": [
    "## Загружаем данные"
   ]
  },
  {
   "cell_type": "code",
   "execution_count": 170,
   "metadata": {},
   "outputs": [
    {
     "name": "stdout",
     "output_type": "stream",
     "text": [
      "(1797, 64) (1797,)\n",
      "(1347, 64) (450, 64)\n"
     ]
    }
   ],
   "source": [
    "from sklearn.datasets import load_digits\n",
    "from sklearn.model_selection import train_test_split\n",
    "\n",
    "X, y = load_digits(return_X_y=True)\n",
    "print(X.shape, y.shape)\n",
    "\n",
    "X_train, X_test, y_train, y_test = train_test_split(X, y, random_state=0)\n",
    "print(X_train.shape, X_test.shape)"
   ]
  },
  {
   "cell_type": "markdown",
   "metadata": {},
   "source": [
    "Подсказка: нейросети крайне плохо обучаются, если подаваемые им на вход значения велики по модулю.\n",
    "Поэтому перед обучением нейросети каждый признак независимо нормируют\n",
    "(исключение – сверточные нейросети, там нормируют изображение поканально, а не попиксельно, но об этом потом).\n",
    "\n",
    "Можно использовать разные нормировки.\n",
    "Наиболее популярно вычитать среднее и делить на дисперсию (нужно внимательно подходить к этому методу,\n",
    "когда выборочная дисперсия мала или равна нулю, и обрабатывать такие случаи отдельно).\n",
    "Можно также вычитать медиану и делить на интерквартильный размах, масштабировать все данные в отрезок $[-1, 1]$, etc"
   ]
  },
  {
   "cell_type": "markdown",
   "metadata": {},
   "source": [
    "Нужно реализовать свою нормировку данных здесь:"
   ]
  },
  {
   "cell_type": "code",
   "execution_count": 577,
   "metadata": {},
   "outputs": [
    {
     "name": "stdout",
     "output_type": "stream",
     "text": [
      "(1797, 64) (1797,)\n",
      "(1347, 64) (450, 64)\n"
     ]
    }
   ],
   "source": [
    "# нормировка делением на дисперсию\n",
    "\n",
    "from sklearn.datasets import load_digits\n",
    "from sklearn.model_selection import train_test_split\n",
    "\n",
    "X, y = load_digits(return_X_y=True)\n",
    "print(X.shape, y.shape)\n",
    "\n",
    "X_train, X_test, y_train, y_test = train_test_split(X, y, random_state=0)\n",
    "print(X_train.shape, X_test.shape)\n",
    "\n",
    "X_train = torch.from_numpy(X_train).type(torch.FloatTensor)\n",
    "y_train = torch.from_numpy(y_train).type(torch.LongTensor)\n",
    "X_test = torch.from_numpy(X_test).type(torch.FloatTensor)\n",
    "y_test = torch.from_numpy(y_test).type(torch.LongTensor)\n",
    "\n",
    "pixel_means = torch.mean(X_train, dim=0)\n",
    "#print(\"pixel_std: {}\".format(pixel_means))\n",
    "pixel_std = torch.std(X_train, dim=0)\n",
    "for i in range(len(pixel_std)):\n",
    "    if pixel_std[i] == 0:\n",
    "        pixel_std[i] = 1\n",
    "        \n",
    "#print(\"pixel_std: {}\".format(pixel_std))\n",
    "X_train = (X_train - pixel_means) / pixel_std\n",
    "X_test = (X_test - pixel_means) / pixel_std"
   ]
  },
  {
   "cell_type": "code",
   "execution_count": 786,
   "metadata": {},
   "outputs": [
    {
     "name": "stdout",
     "output_type": "stream",
     "text": [
      "(1797, 64) (1797,)\n",
      "(1347, 64) (450, 64)\n"
     ]
    }
   ],
   "source": [
    "# Из коробки с помощью интерквартильного размаха\n",
    "#https://www.itl.nist.gov/div898/handbook/prc/section1/prc16.htm\n",
    "\n",
    "from sklearn.datasets import load_digits\n",
    "from sklearn.model_selection import train_test_split\n",
    "\n",
    "X, y = load_digits(return_X_y=True)\n",
    "print(X.shape, y.shape)\n",
    "\n",
    "X_train, X_test, y_train, y_test = train_test_split(X, y, random_state=0)\n",
    "print(X_train.shape, X_test.shape)\n",
    "\n",
    "from sklearn.preprocessing import QuantileTransformer\n",
    "quantile_transformer = QuantileTransformer(random_state=0)\n",
    "X_train = quantile_transformer.fit_transform(X_train)\n",
    "X_test = quantile_transformer.transform(X_test)\n",
    "\n",
    "X_train = torch.from_numpy(X_train).type(torch.FloatTensor)\n",
    "y_train = torch.from_numpy(y_train).type(torch.LongTensor)\n",
    "X_test = torch.from_numpy(X_test).type(torch.FloatTensor)\n",
    "y_test = torch.from_numpy(y_test).type(torch.LongTensor)"
   ]
  },
  {
   "cell_type": "markdown",
   "metadata": {},
   "source": [
    "## Определяем слои нейросети"
   ]
  },
  {
   "cell_type": "code",
   "execution_count": 579,
   "metadata": {},
   "outputs": [],
   "source": [
    "class Module:\n",
    "    def __init__(self):\n",
    "        self.training = True\n",
    "        self.children = []\n",
    "\n",
    "    def forward(self, *input):\n",
    "        raise NotImplementedError\n",
    "\n",
    "    def parameters(self):\n",
    "        \"\"\"Returns list of parameters of module and its children.\"\"\"\n",
    "        res = []\n",
    "        for submodule in self.children:\n",
    "            res += submodule.parameters()\n",
    "        for param in res:\n",
    "            if not isinstance(param, torch.Tensor):\n",
    "                raise Exception('Parameters must be Tensors.')\n",
    "        return res\n",
    "    \n",
    "    def zero_grad(self):\n",
    "        \"\"\"Sets gradients of all model parameters to zero.\"\"\"\n",
    "        for p in self.parameters():\n",
    "            if p.grad is not None:\n",
    "                p.grad.detach_()   # detachs gradient Tensor from the computational graph\n",
    "                p.grad.zero_()\n",
    "\n",
    "    def train(self):\n",
    "        \"\"\"Sets module into train mode (for DropOut, BatchNorm, etc).\"\"\"\n",
    "        self.training = True\n",
    "        for submodule in self.children:\n",
    "            submodule.train()\n",
    "\n",
    "    def eval(self):\n",
    "        \"\"\"Sets module into evaluation mode.\"\"\"\n",
    "        self.training = False\n",
    "        for submodule in self.children:\n",
    "            submodule.eval()"
   ]
  },
  {
   "cell_type": "code",
   "execution_count": 581,
   "metadata": {},
   "outputs": [],
   "source": [
    "class Dense(Module):\n",
    "    def __init__(self, input_units, output_units):\n",
    "        \"\"\"A dense layer is a layer which performs a learned affine transformation:\n",
    "        f(x) = W x + b\n",
    "        \"\"\"\n",
    "        super(Dense, self).__init__()\n",
    "        # initialize weights with small random numbers from normal distribution\n",
    "        self.weights = torch.empty(input_units, output_units, dtype=torch.float).normal_(mean=0, std=1)  # your code here\n",
    "        self.weights = torch.tensor(self.weights, requires_grad=True)\n",
    "        \n",
    "        self.biases = torch.empty(output_units, dtype=torch.float).normal_(mean=0, std=1)   # your code here\n",
    "        self.biases = torch.tensor(self.biases, requires_grad=True)\n",
    "        \n",
    "    def parameters(self):\n",
    "        return [self.weights, self.biases]\n",
    "        \n",
    "    def forward(self, input):\n",
    "        \"\"\"Performs an affine transformation:\n",
    "        f(x) = W x + b\n",
    "        input shape:  [batch, input_units]  (Tensor)\n",
    "        output shape: [batch, output units] (Tensor)\n",
    "        \"\"\"\n",
    "        # your code here\n",
    "        output = input.mm(self.weights).add(self.biases)\n",
    "        \n",
    "        return output"
   ]
  },
  {
   "cell_type": "code",
   "execution_count": 790,
   "metadata": {},
   "outputs": [],
   "source": [
    "class ReLU(Module):\n",
    "    def __init__(self):\n",
    "        \"\"\"ReLU layer simply applies elementwise rectified linear unit to all inputs.\"\"\"\n",
    "        super(ReLU, self).__init__()\n",
    "\n",
    "    def parameters(self):\n",
    "        return []  # ReLU has no parameters\n",
    "    \n",
    "    def forward(self, input):\n",
    "        \"\"\"Applies elementwise ReLU to [batch, num_units] Tensor matrix.\"\"\"\n",
    "        # your code here\n",
    "        output = torch.max(input, torch.zeros_like(input))\n",
    "        return output"
   ]
  },
  {
   "cell_type": "code",
   "execution_count": 999,
   "metadata": {},
   "outputs": [],
   "source": [
    "import torch.nn.functional as F\n",
    "class LogSoftmax(Module):\n",
    "    def __init__(self):\n",
    "        super(LogSoftmax, self).__init__()\n",
    "\n",
    "    def parameters(self):\n",
    "        return []\n",
    "        \n",
    "    def forward(self, input):\n",
    "        \"\"\"Applies softmax to each row and then applies component-wise log.\n",
    "        Input shape:  [batch, num_units] (Tensor)\n",
    "        Output shape: [batch, num_units] (Tensor)\n",
    "        \"\"\"\n",
    "        # your code here\n",
    "        #output = input.data.numpy()\n",
    "        #output = output - np.max(output, axis=1)[:, np.newaxis] \n",
    "        #output = np.log(np.exp(output) / np.sum(np.exp(output), axis=1)[:, np.newaxis])\n",
    "        #return output\n",
    "        \n",
    "        # ^Не получилось сделать чисто на torch переменных функцию, только np и в ней не работали бы фичи из торча\n",
    "        # решил выпилить и вставить готовую\n",
    "        output = F.log_softmax(input, dim=1)\n",
    "        return output"
   ]
  },
  {
   "cell_type": "code",
   "execution_count": 1000,
   "metadata": {},
   "outputs": [],
   "source": [
    "class MyNetwork(Module):\n",
    "    def __init__(self, input_size, hidden_layers_size, hidden_layers_number, output_size):\n",
    "        super(MyNetwork, self).__init__()\n",
    "\n",
    "        network = []\n",
    "        network.append(Dense(input_size, hidden_layers_size))\n",
    "        network.append(ReLU())\n",
    "        for i in range(hidden_layers_number - 1):\n",
    "            network.append(Dense(hidden_layers_size, hidden_layers_size))\n",
    "            network.append(ReLU())\n",
    "        network.append(Dense(hidden_layers_size, output_size))\n",
    "        network.append(LogSoftmax())\n",
    "\n",
    "        self.children = network\n",
    "\n",
    "    def forward(self, input):\n",
    "        \"\"\"Applies all layers of neural network to the input.\n",
    "        Input shape:  [batch, num_units] (Tensor)\n",
    "        Output shape: [batch, num_units] (Tensor)\n",
    "        \"\"\"\n",
    "        output = input\n",
    "        # your code here\n",
    "        for layer in self.children:\n",
    "            output = layer.forward(output)\n",
    "        return output"
   ]
  },
  {
   "cell_type": "code",
   "execution_count": 1001,
   "metadata": {},
   "outputs": [],
   "source": [
    "network = MyNetwork(X_train.shape[1], 32, 1, 10)"
   ]
  },
  {
   "cell_type": "markdown",
   "metadata": {},
   "source": [
    "## Определяем функцию потерь"
   ]
  },
  {
   "cell_type": "code",
   "execution_count": 1002,
   "metadata": {},
   "outputs": [],
   "source": [
    "def crossentropy(activations, target):\n",
    "    return -1*torch.mean(activations*torch.Tensor(torch.eye(activations.shape[1])[target.data]))"
   ]
  },
  {
   "cell_type": "markdown",
   "metadata": {},
   "source": [
    "## Оптимизатор SGD"
   ]
  },
  {
   "cell_type": "code",
   "execution_count": 1003,
   "metadata": {},
   "outputs": [],
   "source": [
    "class SGDOptimizer:\n",
    "    def __init__(self, parameters, learning_rate):\n",
    "        self.parameters = parameters\n",
    "        self.learning_rate = learning_rate\n",
    "\n",
    "    def step(self):\n",
    "        \"\"\"Make one optimization step for parameters in-place.\n",
    "        Assumes that all parameters are Variable with computed gradient.\n",
    "        \"\"\"\n",
    "        for param in self.parameters:\n",
    "            param.data -= self.learning_rate * param.grad.data"
   ]
  },
  {
   "cell_type": "code",
   "execution_count": 1004,
   "metadata": {},
   "outputs": [],
   "source": [
    "import torch.utils.data"
   ]
  },
  {
   "cell_type": "code",
   "execution_count": 1005,
   "metadata": {},
   "outputs": [],
   "source": [
    "def run_epoch(dataset, network, prefix='Test loss:', optimizer=None):\n",
    "    # Change mode for all layers.\n",
    "    if optimizer:\n",
    "        network.train()\n",
    "    else:\n",
    "        network.eval()\n",
    "\n",
    "    batch_size = 100\n",
    "    batchgenerator = torch.utils.data.DataLoader(dataset, batch_size, True)\n",
    "\n",
    "    avg_loss = 0\n",
    "    for i, (batch_data, batch_target) in enumerate(batchgenerator):\n",
    "        batch_output = network.forward(torch.tensor(batch_data))\n",
    "        batch_loss = crossentropy(batch_output, torch.tensor(batch_target))\n",
    "        batch_loss.backward()\n",
    "        batch_loss = batch_loss.data.numpy()\n",
    "        avg_loss += (batch_loss - avg_loss) / (i + 1)\n",
    "        if optimizer:\n",
    "            optimizer.step()\n",
    "            network.zero_grad()\n",
    "    print(prefix, avg_loss, flush=True)"
   ]
  },
  {
   "cell_type": "code",
   "execution_count": 1006,
   "metadata": {},
   "outputs": [
    {
     "name": "stdout",
     "output_type": "stream",
     "text": [
      "Train loss: 1.3224943748542242\n",
      "Test loss: 0.7270618915557862\n",
      "Train loss: 0.5076459433351245\n",
      "Test loss: 0.36908066272735596\n",
      "Train loss: 0.301526950938361\n",
      "Test loss: 0.2610673666000366\n",
      "Train loss: 0.21695233987910406\n",
      "Test loss: 0.20664595067501068\n",
      "Train loss: 0.17594877311161589\n",
      "Test loss: 0.1719949334859848\n",
      "Train loss: 0.1476305526282106\n",
      "Test loss: 0.1453218162059784\n",
      "Train loss: 0.12818284811718123\n",
      "Test loss: 0.12881805151700973\n",
      "Train loss: 0.11138748058250972\n",
      "Test loss: 0.10774884819984436\n",
      "Train loss: 0.10098956472107343\n",
      "Test loss: 0.10085771232843399\n",
      "Train loss: 0.09135710022279195\n",
      "Test loss: 0.09121232479810715\n",
      "Train loss: 0.08511429013950483\n",
      "Test loss: 0.08060893416404724\n",
      "Train loss: 0.07742203399538994\n",
      "Test loss: 0.07724456787109375\n",
      "Train loss: 0.07352124713361265\n",
      "Test loss: 0.07183605208992958\n",
      "Train loss: 0.0661870211895023\n",
      "Test loss: 0.06559795588254928\n",
      "Train loss: 0.06419315401996883\n",
      "Test loss: 0.05996919944882393\n",
      "Train loss: 0.06047454449747291\n",
      "Test loss: 0.05795879513025284\n",
      "Train loss: 0.05758575429873808\n",
      "Test loss: 0.06170530915260315\n",
      "Train loss: 0.05456079808729036\n",
      "Test loss: 0.06135432943701744\n",
      "Train loss: 0.0538611566381795\n",
      "Test loss: 0.053023967891931534\n",
      "Train loss: 0.05073075395609651\n",
      "Test loss: 0.05136542245745659\n"
     ]
    }
   ],
   "source": [
    "train_dataset = torch.utils.data.TensorDataset(X_train, y_train)\n",
    "test_dataset = torch.utils.data.TensorDataset(X_test, y_test)\n",
    "\n",
    "network = MyNetwork(X_train.shape[1], 32, 1, 10)\n",
    "sgd = SGDOptimizer(network.parameters(), 0.5)\n",
    "\n",
    "num_epochs = 20\n",
    "for i in range(num_epochs):\n",
    "    run_epoch(train_dataset, network, 'Train loss:', sgd)\n",
    "    run_epoch(test_dataset, network, 'Test loss:',  None)"
   ]
  },
  {
   "cell_type": "markdown",
   "metadata": {},
   "source": [
    "## Больше оптимизаторов Б-гу Оптимизации!"
   ]
  },
  {
   "cell_type": "code",
   "execution_count": 1007,
   "metadata": {},
   "outputs": [],
   "source": [
    "class SGDMomentumOptimizer:\n",
    "    def __init__(self, parameters, learning_rate=0.01, momentum=0.9):\n",
    "        self.parameters = parameters\n",
    "        self.learning_rate = learning_rate\n",
    "        self.momentum = momentum\n",
    "        # your code here\n",
    "        self.rates = [torch.zeros_like(x) for x in self.parameters]\n",
    "\n",
    "    def step(self):\n",
    "        \"\"\"Make one optimization step for parameters in-place.\n",
    "        Assumes that all parameters are Variable with computed gradient.\n",
    "        \"\"\"\n",
    "        # your code here\n",
    "        for ix in range(len(self.parameters)):\n",
    "            self.rates[ix] = - 1 * self.learning_rate * self.parameters[ix].grad.numpy() + self.momentum * self.rates[ix] \n",
    "            self.parameters[ix].data = self.parameters[ix].data + self.rates[ix]"
   ]
  },
  {
   "cell_type": "code",
   "execution_count": 1008,
   "metadata": {},
   "outputs": [],
   "source": [
    "class RMSPropOptimizer:\n",
    "    def __init__(self, parameters, learning_rate=0.01, beta=0.9, eps=1e-8):\n",
    "        self.parameters = parameters\n",
    "        self.learning_rate = learning_rate\n",
    "        self.beta = beta\n",
    "        self.eps = eps\n",
    "        # your code here\n",
    "        self.running_averages = [torch.zeros_like(x) for x in self.parameters]\n",
    "\n",
    "    def step(self):\n",
    "        \"\"\"Make one optimization step for parameters in-place.\n",
    "        Assumes that all parameters are Variable with computed gradient.\n",
    "        \"\"\"\n",
    "        # your code here\n",
    "        for ix in range(len(self.parameters)):\n",
    "            self.running_averages[ix] = self.beta * self.running_averages[ix] + (1-self.beta) * (self.parameters[ix].grad.data**2)\n",
    "            self.parameters[ix].data = self.parameters[ix].data - self.learning_rate/torch.sqrt(self.eps+self.running_averages[ix]) * self.parameters[ix].grad.data"
   ]
  },
  {
   "cell_type": "code",
   "execution_count": 1009,
   "metadata": {},
   "outputs": [],
   "source": [
    "class AdamOptimizer:\n",
    "    def __init__(self, parameters, learning_rate=0.01, beta1=0.9, beta2=0.999, eps=1e-8):\n",
    "        self.parameters = parameters\n",
    "        self.learning_rate = learning_rate\n",
    "        self.beta1 = beta1\n",
    "        self.beta2 = beta2\n",
    "        self.eps = eps\n",
    "        # your code here\n",
    "        \n",
    "        self.m = [torch.zeros_like(x) for x in self.parameters]\n",
    "        self.v = [torch.zeros_like(x) for x in self.parameters]\n",
    "        \n",
    "    def step(self):\n",
    "        \"\"\"Make one optimization step for parameters in-place.\n",
    "        Assumes that all parameters are Variable with computed gradient.\n",
    "        \"\"\"\n",
    "        # your code here\n",
    "                    \n",
    "        for ix in range(len(self.parameters)):\n",
    "            self.m[ix] = (self.beta1 * self.m[ix] + (1-self.beta1)*self.parameters[ix].grad.data)\n",
    "            self.v[ix] = (self.beta2 * self.v[ix] + (1-self.beta2)*self.parameters[ix].grad.data**2)\n",
    "            \n",
    "            m, v = self.m[ix] / (1-self.beta1), self.v[ix] / (1-self.beta2)\n",
    "            self.parameters[ix].data = self.parameters[ix].data - self.learning_rate * m / (torch.sqrt(v) + self.eps)"
   ]
  },
  {
   "cell_type": "code",
   "execution_count": 1010,
   "metadata": {},
   "outputs": [],
   "source": [
    "train_dataset = torch.utils.data.TensorDataset(X_train, y_train)\n",
    "test_dataset = torch.utils.data.TensorDataset(X_test, y_test)"
   ]
  },
  {
   "cell_type": "code",
   "execution_count": 1011,
   "metadata": {},
   "outputs": [
    {
     "name": "stdout",
     "output_type": "stream",
     "text": [
      "Train loss: 0.8861593838248935\n",
      "Test loss: 0.20479665398597718\n",
      "Train loss: 0.17421326573405946\n",
      "Test loss: 0.14796899855136872\n",
      "Train loss: 0.12490521584238323\n",
      "Test loss: 0.10206914991140366\n",
      "Train loss: 0.0837956563170467\n",
      "Test loss: 0.07655073627829552\n",
      "Train loss: 0.06571268662810326\n",
      "Test loss: 0.05869651436805725\n",
      "Train loss: 0.052306749458823895\n",
      "Test loss: 0.04741026982665062\n",
      "Train loss: 0.046197399363986084\n",
      "Test loss: 0.04226075559854507\n",
      "Train loss: 0.039615299486156025\n",
      "Test loss: 0.03747780472040176\n",
      "Train loss: 0.03563952765294484\n",
      "Test loss: 0.03190916888415814\n",
      "Train loss: 0.03253141351576362\n",
      "Test loss: 0.028747232630848885\n",
      "Train loss: 0.029644607965435298\n",
      "Test loss: 0.028675852715969084\n",
      "Train loss: 0.02776321349665523\n",
      "Test loss: 0.026266885921359062\n",
      "Train loss: 0.02516721681292568\n",
      "Test loss: 0.02386121600866318\n",
      "Train loss: 0.024048338777252605\n",
      "Test loss: 0.021739119291305543\n",
      "Train loss: 0.022381451513086046\n",
      "Test loss: 0.019869045168161393\n",
      "Train loss: 0.022064340699996264\n",
      "Test loss: 0.020457010716199875\n",
      "Train loss: 0.020877285594386712\n",
      "Test loss: 0.017987142875790597\n",
      "Train loss: 0.018818164709955454\n",
      "Test loss: 0.017115558683872222\n",
      "Train loss: 0.019107332519654716\n",
      "Test loss: 0.014783755131065845\n",
      "Train loss: 0.017123012071741477\n",
      "Test loss: 0.01483362279832363\n"
     ]
    }
   ],
   "source": [
    "network = MyNetwork(X_train.shape[1], 32, 1, 10)\n",
    "optim = SGDMomentumOptimizer(network.parameters(), 0.5)\n",
    "\n",
    "num_epochs = 20\n",
    "for i in range(num_epochs):\n",
    "    run_epoch(train_dataset, network, 'Train loss:', optim)\n",
    "    run_epoch(test_dataset, network, 'Test loss:',  None)"
   ]
  },
  {
   "cell_type": "code",
   "execution_count": 1012,
   "metadata": {},
   "outputs": [
    {
     "name": "stdout",
     "output_type": "stream",
     "text": [
      "Train loss: 0.9974486018930161\n",
      "Test loss: 0.48690699934959414\n",
      "Train loss: 0.3242223784327507\n",
      "Test loss: 0.2738447844982147\n",
      "Train loss: 0.2037073490875108\n",
      "Test loss: 0.18880587220191955\n",
      "Train loss: 0.13974261709621974\n",
      "Test loss: 0.13339255899190902\n",
      "Train loss: 0.10189123983894077\n",
      "Test loss: 0.09618145674467087\n",
      "Train loss: 0.07282346008079392\n",
      "Test loss: 0.0762104794383049\n",
      "Train loss: 0.057651125958987644\n",
      "Test loss: 0.06216159537434578\n",
      "Train loss: 0.043891087906169045\n",
      "Test loss: 0.05350874662399292\n",
      "Train loss: 0.03454694970111762\n",
      "Test loss: 0.03845533058047294\n",
      "Train loss: 0.03007998038083315\n",
      "Test loss: 0.040523811429739\n",
      "Train loss: 0.02542869267719133\n",
      "Test loss: 0.030320070497691632\n",
      "Train loss: 0.021569779941013882\n",
      "Test loss: 0.02578662596642971\n",
      "Train loss: 0.021035370150847096\n",
      "Test loss: 0.021347801387310027\n",
      "Train loss: 0.0164237154780754\n",
      "Test loss: 0.027851981483399867\n",
      "Train loss: 0.016127016860991716\n",
      "Test loss: 0.01899546030908823\n",
      "Train loss: 0.012630351519744313\n",
      "Test loss: 0.016489765234291555\n",
      "Train loss: 0.01287772147251027\n",
      "Test loss: 0.014599594473838805\n",
      "Train loss: 0.010363629686513116\n",
      "Test loss: 0.011981517169624567\n",
      "Train loss: 0.010661627764680557\n",
      "Test loss: 0.009443106688559055\n",
      "Train loss: 0.008424311044758985\n",
      "Test loss: 0.01125115118920803\n"
     ]
    }
   ],
   "source": [
    "network = MyNetwork(X_train.shape[1], 32, 1, 10)\n",
    "optim = RMSPropOptimizer(network.parameters())\n",
    "\n",
    "num_epochs = 20\n",
    "for i in range(num_epochs):\n",
    "    run_epoch(train_dataset, network, 'Train loss:', optim)\n",
    "    run_epoch(test_dataset, network, 'Test loss:',  None)"
   ]
  },
  {
   "cell_type": "code",
   "execution_count": 1013,
   "metadata": {},
   "outputs": [
    {
     "name": "stdout",
     "output_type": "stream",
     "text": [
      "Train loss: 1.5308962932654788\n",
      "Test loss: 0.6812158226966858\n",
      "Train loss: 0.39744293051106594\n",
      "Test loss: 0.2385811150074005\n",
      "Train loss: 0.1660539640911988\n",
      "Test loss: 0.1477382645010948\n",
      "Train loss: 0.1085784448576825\n",
      "Test loss: 0.10334560424089431\n",
      "Train loss: 0.08135044388473034\n",
      "Test loss: 0.07799172103404999\n",
      "Train loss: 0.06676233054271766\n",
      "Test loss: 0.06133635714650154\n",
      "Train loss: 0.05689226569873946\n",
      "Test loss: 0.049878443405032155\n",
      "Train loss: 0.05074265213417155\n",
      "Test loss: 0.04375402368605137\n",
      "Train loss: 0.046708913653024604\n",
      "Test loss: 0.03705931566655636\n",
      "Train loss: 0.04094179879341806\n",
      "Test loss: 0.03237900622189045\n",
      "Train loss: 0.03793670862380948\n",
      "Test loss: 0.031139878556132317\n",
      "Train loss: 0.036193248350173235\n",
      "Test loss: 0.027106764167547225\n",
      "Train loss: 0.032818896363356276\n",
      "Test loss: 0.025554902851581573\n",
      "Train loss: 0.02961194328963756\n",
      "Test loss: 0.022148158773779868\n",
      "Train loss: 0.029320692710046253\n",
      "Test loss: 0.0201693594455719\n",
      "Train loss: 0.027039149975670237\n",
      "Test loss: 0.02080587912350893\n",
      "Train loss: 0.026011472501392876\n",
      "Test loss: 0.020097282156348227\n",
      "Train loss: 0.026040035898664167\n",
      "Test loss: 0.017211951687932013\n",
      "Train loss: 0.023666197034929483\n",
      "Test loss: 0.018052729964256286\n",
      "Train loss: 0.021871779845761403\n",
      "Test loss: 0.016401336900889872\n"
     ]
    }
   ],
   "source": [
    "network = MyNetwork(X_train.shape[1], 32, 1, 10)\n",
    "optim = AdamOptimizer(network.parameters())\n",
    "\n",
    "num_epochs = 20\n",
    "for i in range(num_epochs):\n",
    "    run_epoch(train_dataset, network, 'Train loss:', optim)\n",
    "    run_epoch(test_dataset, network, 'Test loss:',  None)"
   ]
  },
  {
   "cell_type": "markdown",
   "metadata": {},
   "source": [
    "## Эксперименты с DropOut"
   ]
  },
  {
   "cell_type": "markdown",
   "metadata": {},
   "source": [
    "Этот пункт обязателен к выполнению.\n",
    "Для того, чтобы получить бонусный балл за этот пункт, нужно эффективно реализовать DropOut:\n",
    "не вычислять активации выкинутых нейронов, прежде чем их обнулить."
   ]
  },
  {
   "cell_type": "code",
   "execution_count": 1201,
   "metadata": {},
   "outputs": [],
   "source": [
    "class DenseWithDropOut(Module):\n",
    "    def __init__(self, input_units, output_units, dropout_rate, nonlinearity):\n",
    "        \"\"\"A dense layer is a layer which performs a learned\n",
    "        affine transformation and applies dropout:\n",
    "        m ~ Bernoulli(1 - p, size=output_units)\n",
    "        f(x) = g(W x + b) o m\n",
    "        \"\"\"\n",
    "        super(DenseWithDropOut, self).__init__()\n",
    "        self.dropout_rate = dropout_rate\n",
    "        self.nonlinearity = nonlinearity\n",
    "        # initialize weights with small random numbers from normal distribution\n",
    "        self.weights = torch.empty(input_units, output_units, dtype=torch.float).normal_(mean=0, std=1)  # your code here\n",
    "        self.weights = torch.tensor(self.weights, requires_grad=True)\n",
    "        \n",
    "        self.biases = torch.empty(output_units, dtype=torch.float).normal_(mean=0, std=1)   # your code here\n",
    "        self.biases = torch.tensor(self.biases, requires_grad=True)\n",
    "\n",
    "    def parameters(self):\n",
    "        return [self.weights, self.biases]\n",
    "        \n",
    "    def forward(self, input):\n",
    "        \"\"\"Performs an affine transformation with dropout.\n",
    "        In training mode:\n",
    "        m ~ Bernoulli(1 - p, size=output_units)\n",
    "        f(x) = g(W x + b) o m\n",
    "        In evaluation mode:\n",
    "        f(x) = g(W x + b) (1 - p)\n",
    "        input shape:  [batch, input_units]  (Variable)\n",
    "        output shape: [batch, output units] (Variable)\n",
    "        \"\"\"\n",
    "        # your code here        \n",
    "        if self.training:\n",
    "            m = torch.empty(self.weights.shape[1]).bernoulli_(1.0-self.dropout_rate)\n",
    "            nonzero_indices = m.nonzero().squeeze().long()\n",
    "            if nonzero_indices.shape and nonzero_indices.shape[0] > 0:\n",
    "                output = self.nonlinearity((input[nonzero_indices]).t().mm(self.weights[nonzero_indices]).add(self.biases))\n",
    "            else:\n",
    "                output = self.nonlinearity(input.mm(self.weights).add(self.biases))\n",
    "                \n",
    "            # Не сработает - тк все равно нужно будет ходить по всем элементам\n",
    "            # return output = self.nonlinearity(input.mm(self.weights).add(self.biases)) * m\n",
    "        else:\n",
    "            output = (1 - self.dropout_rate) * self.nonlinearity(input.mm(self.weights).add(self.biases))\n",
    "        \n",
    "        return output"
   ]
  },
  {
   "cell_type": "markdown",
   "metadata": {},
   "source": [
    "Проверяем, верно ли, что полносвязная сеть с dropout работает быстрее, чем обычная полносвязная сеть, поскольку на каждом проходе вычисляются произведения матриц меньшего размера."
   ]
  },
  {
   "cell_type": "code",
   "execution_count": null,
   "metadata": {},
   "outputs": [
    {
     "name": "stdout",
     "output_type": "stream",
     "text": [
      "DenseWithDropOut:\n",
      "355 ms ± 16.5 ms per loop (mean ± std. dev. of 7 runs, 1 loop each)\n",
      "Dense:\n"
     ]
    }
   ],
   "source": [
    "width = 2000\n",
    "network1 = [\n",
    "    DenseWithDropOut(width, width, 0.9, lambda x: ReLU().forward(x)),\n",
    "    DenseWithDropOut(width, width, 0.9, lambda x: ReLU().forward(x)),\n",
    "    DenseWithDropOut(width, width, 0.9, lambda x: ReLU().forward(x)),\n",
    "    DenseWithDropOut(width, 1, 0, lambda x: x)\n",
    "]\n",
    "network2 = [\n",
    "    Dense(width, width),\n",
    "    ReLU(),\n",
    "    Dense(width, width),\n",
    "    ReLU(),\n",
    "    Dense(width, width),\n",
    "    ReLU(),\n",
    "    Dense(width, 1)\n",
    "]\n",
    "X = torch.randn(10000, width)\n",
    "\n",
    "# check whether DenseWithDropOut works faster than Dense\n",
    "def test_network(network):\n",
    "    x = torch.tensor(X)\n",
    "    for layer in network:\n",
    "        x = layer.forward(x)\n",
    "    x.mean().backward()\n",
    "    for layer in network:\n",
    "        x = layer.zero_grad()\n",
    "\n",
    "test_network(network1)\n",
    "print(\"DenseWithDropOut:\")\n",
    "%timeit test_network(network1)\n",
    "print(\"Dense:\")\n",
    "%timeit test_network(network2)"
   ]
  },
  {
   "cell_type": "markdown",
   "metadata": {},
   "source": [
    "Для более узких слоев, меньших dropout rate и меньших размеров батча увеличение производительности не настолько существенно или может вообще отсутствовать."
   ]
  },
  {
   "cell_type": "code",
   "execution_count": null,
   "metadata": {},
   "outputs": [],
   "source": []
  }
 ],
 "metadata": {
  "kernelspec": {
   "display_name": "Python 3",
   "language": "python",
   "name": "python3"
  },
  "language_info": {
   "codemirror_mode": {
    "name": "ipython",
    "version": 3
   },
   "file_extension": ".py",
   "mimetype": "text/x-python",
   "name": "python",
   "nbconvert_exporter": "python",
   "pygments_lexer": "ipython3",
   "version": "3.6.5"
  }
 },
 "nbformat": 4,
 "nbformat_minor": 2
}
